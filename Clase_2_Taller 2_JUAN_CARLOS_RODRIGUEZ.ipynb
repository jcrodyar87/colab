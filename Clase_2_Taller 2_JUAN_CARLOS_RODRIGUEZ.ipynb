{
 "cells": [
  {
   "cell_type": "markdown",
   "id": "cfcc20fd-12d8-4c3b-bb27-34c03b6a21fa",
   "metadata": {
    "id": "cfcc20fd-12d8-4c3b-bb27-34c03b6a21fa"
   },
   "source": [
    "# Python para la Ciencia de Datos - Taller 2\n",
    "\n",
    "Fecha: **13/05/2024**\n",
    "\n",
    "Autor: **MSc. Ing. CIP Francisco Cerna**\n",
    "\n",
    "Objetivo:\n",
    "\n",
    "Desarrollar los ejercicios prácticos en el lenguaje de programación Python.\n",
    "\n",
    "Documentación oficial:\n",
    "\n",
    "\n",
    "1.   [docs.python.org](https://docs.python.org/3/tutorial/)\n",
    "\n",
    "\n"
   ]
  },
  {
   "cell_type": "code",
   "execution_count": 1,
   "id": "693439df-f568-4268-97ac-0d3b519cca40",
   "metadata": {
    "id": "693439df-f568-4268-97ac-0d3b519cca40"
   },
   "outputs": [
    {
     "name": "stdout",
     "output_type": "stream",
     "text": [
      "Python 3.11.7\n"
     ]
    }
   ],
   "source": [
    "!python --version"
   ]
  },
  {
   "cell_type": "markdown",
   "id": "595b35a7-d3d4-430e-8fe8-95a0ca732bf7",
   "metadata": {
    "id": "595b35a7-d3d4-430e-8fe8-95a0ca732bf7"
   },
   "source": [
    "## Parte 2: Estructuras de control\n"
   ]
  },
  {
   "cell_type": "markdown",
   "id": "6Mr-No5KZnXu",
   "metadata": {
    "id": "6Mr-No5KZnXu"
   },
   "source": [
    "\n",
    "1.   **Condicional if:** Permite ejecutar un bloque de código en base a una condición específica. Se utiliza para tomar decisiones y controlar el flujo del programa.\n",
    "\n",
    "    Sintaxis:\n",
    "\n",
    "```\n",
    "    if condición: # Es una expresión booleana. True o False.\n",
    "        # Este bloque de código se ejecuta si la condición es True.\n",
    "    else:\n",
    "        # Este bloque de código (opcional) se ejecuta si la condición es False.\n",
    "```\n",
    "\n",
    "2. **Operadores de comparación:** Permiten comparar dos variables. Ejemplo: `==, !=, <, >, <=, >=`\n",
    "\n",
    "3. **Operadores lógicos:** Permiten construir condiciones más complejas al combinar dos o más expresiones booleanas para obtener un resultado.\n",
    "\n",
    "    `and`: Devuelve True solo si ambas expresiones son True.\n",
    "    \n",
    "    `or`: Devuelve True si al menos una de las expresiones es True.\n",
    "    \n",
    "    `not`: Invierte el valor de la expresión booleana.\n",
    "\n",
    "```\n",
    "    es_mayor_de_edad = edad >= 18\n",
    "    es_estudiante = carrera != \"\"\n",
    "\n",
    "    if es_mayor_de_edad and es_estudiante:\n",
    "      print(\"Eres mayor de edad y estudiante.\")\n",
    "    else:\n",
    "      print(\"No cumples con ambas condiciones.\")\n",
    "    Usa el código con precaución.\n",
    "```\n",
    "\n",
    "4. **Bucle while:** Permite repetir un bloque de código mientras una condición específica se mantenga True. Se utiliza para realizar tareas repetitivas hasta que se cumpla una condición de salida.\n",
    "\n",
    "```\n",
    "    import cv2\n",
    "    capture = cv2.VideoCapture(path)\n",
    "\n",
    "    while True:\n",
    "        # Bloque de código se ejecuta repetidamente mientras la condición sea True.\n",
    "        ret, frame = capture.read(0)\n",
    "\n",
    "        # Si presionan la letra q se ejecuta esta condicional.\n",
    "        if cv2.waitKey(1) & 0xFF == ord('q'):\n",
    "            break\n",
    "\n",
    "    capture.release()\n",
    "    cv2.destroyAllWindows()\n",
    "```\n",
    "\n",
    "\n",
    "5. **Bucle for:** Permite recorrer una secuencia de elementos (lista o un rango de números) y ejecutar un bloque de código para cada elemento.\n",
    "\n",
    "Sintaxis:\n",
    "\n",
    "```\n",
    "    for elemento in lista_o_tupla:\n",
    "        # Bloque de código se ejecuta para cada elemento de la lista\n",
    "```\n",
    "\n",
    "```\n",
    "    nombres = [\"Juan\", \"María\", \"Pedro\", \"Ana\"]\n",
    "\n",
    "    for nombre in nombres:\n",
    "        print(f\"Hola, {nombre}!\")\n",
    "```"
   ]
  },
  {
   "cell_type": "code",
   "execution_count": 1,
   "id": "c9d891cc-01d1-487f-a86e-bcea53d3043b",
   "metadata": {
    "id": "r1EVAX2trHm2"
   },
   "outputs": [
    {
     "name": "stdout",
     "output_type": "stream",
     "text": [
      "0 1\n",
      "1 2\n",
      "2 3\n",
      "3 4\n",
      "4 5\n",
      "5 6\n",
      "6 7\n",
      "7 8\n",
      "8 9\n",
      "9 10\n",
      "10 11\n",
      "11 12\n",
      "12 13\n",
      "13 14\n",
      "14 15\n",
      "15 16\n",
      "16 17\n",
      "17 18\n",
      "18 19\n"
     ]
    }
   ],
   "source": [
    "lista = list(range(1, 20))\n",
    "for index, elemento in enumerate(lista):\n",
    "    print(index, elemento)"
   ]
  },
  {
   "cell_type": "markdown",
   "id": "76d73b30-f357-423f-b638-a665c0083fb6",
   "metadata": {
    "id": "_EcgMt5Sq-a_"
   },
   "source": [
    "### Pregunta 1:"
   ]
  },
  {
   "cell_type": "markdown",
   "id": "X71GMAmErH2-",
   "metadata": {
    "id": "X71GMAmErH2-"
   },
   "source": [
    "Crear una variable booleana que almacenará el valor True. El nombre de la variable será `flag`."
   ]
  },
  {
   "cell_type": "code",
   "execution_count": 2,
   "id": "-qSmuwIFrKRD",
   "metadata": {
    "id": "-qSmuwIFrKRD"
   },
   "outputs": [
    {
     "data": {
      "text/plain": [
       "bool"
      ]
     },
     "execution_count": 2,
     "metadata": {},
     "output_type": "execute_result"
    }
   ],
   "source": [
    "flag = True\n",
    "type(flag)"
   ]
  },
  {
   "cell_type": "code",
   "execution_count": 3,
   "id": "84dd6e2b-35dd-47d7-a578-facf9ce77ccd",
   "metadata": {
    "id": "-qSmuwIFrKRD"
   },
   "outputs": [
    {
     "name": "stdout",
     "output_type": "stream",
     "text": [
      "True <class 'bool'>\n",
      "True <class 'bool'>\n",
      "Se cumplen ambas condiciones.\n"
     ]
    }
   ],
   "source": [
    "edad = 900\n",
    "es_mayor = edad >= 18\n",
    "print(es_mayor, type(es_mayor))\n",
    "\n",
    "matriculado ='SI'\n",
    "es_alumno = 'SI' == matriculado\n",
    "print(es_alumno, type(es_alumno))\n",
    "\n",
    "if es_mayor and es_alumno:\n",
    "    print(\"Se cumplen ambas condiciones.\")\n",
    "else:\n",
    "    print(\"No se cumple.\")"
   ]
  },
  {
   "cell_type": "markdown",
   "id": "0e6ce492-eace-4ddc-95ae-eb27ed30f473",
   "metadata": {
    "id": "r1EVAX2trHm2"
   },
   "source": [
    "### Pregunta 2:"
   ]
  },
  {
   "cell_type": "markdown",
   "id": "G1ofIiXlrCZQ",
   "metadata": {
    "id": "G1ofIiXlrCZQ"
   },
   "source": [
    "Corregir la siguiente celda de código para que se ejecute el bloque de código si la condición es True."
   ]
  },
  {
   "cell_type": "code",
   "execution_count": 4,
   "id": "XlAHsxEYrAaY",
   "metadata": {
    "id": "XlAHsxEYrAaY"
   },
   "outputs": [
    {
     "name": "stdout",
     "output_type": "stream",
     "text": [
      "Buen trabajo. Sigue así.\n"
     ]
    }
   ],
   "source": [
    "if flag:\n",
    "    print(\"Buen trabajo. Sigue así.\")"
   ]
  },
  {
   "cell_type": "markdown",
   "id": "wV2URd7UrujS",
   "metadata": {
    "id": "wV2URd7UrujS"
   },
   "source": [
    "### Pregunta 3:"
   ]
  },
  {
   "cell_type": "markdown",
   "id": "J4ApsCIarw0L",
   "metadata": {
    "id": "J4ApsCIarw0L"
   },
   "source": [
    "Corregir la siguiente celda de código para que se ejecute el bloque de código si la condición es False."
   ]
  },
  {
   "cell_type": "code",
   "execution_count": 5,
   "id": "pozPwiGKrwiu",
   "metadata": {
    "id": "pozPwiGKrwiu",
    "scrolled": true
   },
   "outputs": [
    {
     "name": "stdout",
     "output_type": "stream",
     "text": [
      "Bloque de código si la condición es False.\n",
      "Esta línea de código se va a ejecutar independiente del valor de la variable flag.\n"
     ]
    }
   ],
   "source": [
    "if not flag: # Condición True.\n",
    "    print(\"La variable flag es True.\")\n",
    "else: # Condición False.\n",
    "    print(\"Bloque de código si la condición es False.\")\n",
    "\n",
    "print(\"Esta línea de código se va a ejecutar independiente del valor de la variable flag.\")"
   ]
  },
  {
   "cell_type": "markdown",
   "id": "RT8fel__sd7M",
   "metadata": {
    "id": "RT8fel__sd7M"
   },
   "source": [
    "### Pregunta 4:"
   ]
  },
  {
   "cell_type": "markdown",
   "id": "Gk0HZWKxsfwS",
   "metadata": {
    "id": "Gk0HZWKxsfwS"
   },
   "source": [
    "Utiliza la palabra reservada `and` o `or` para que la suma de las variables sea igual a 20."
   ]
  },
  {
   "cell_type": "code",
   "execution_count": 6,
   "id": "QyrDnu26spFo",
   "metadata": {
    "id": "QyrDnu26spFo"
   },
   "outputs": [
    {
     "name": "stdout",
     "output_type": "stream",
     "text": [
      "20.0\n"
     ]
    }
   ],
   "source": [
    "variable_1 = 10.05\n",
    "variable_2 = 1.05\n",
    "\n",
    "if variable_1 > 10 or variable_2 < 1:\n",
    "    variable_2 = 9.95\n",
    "\n",
    "print(variable_1 + variable_2)"
   ]
  },
  {
   "cell_type": "markdown",
   "id": "Ay4t0kz0tHVi",
   "metadata": {
    "id": "Ay4t0kz0tHVi"
   },
   "source": [
    "### Pregunta 5:"
   ]
  },
  {
   "cell_type": "markdown",
   "id": "_3pKlLnGtI6H",
   "metadata": {
    "id": "_3pKlLnGtI6H"
   },
   "source": [
    "Crear una lista utilizando la función `range()`. La lista debe contener al menos 13 elementos.\n",
    "\n",
    "Recorrer la lista utilizando el bucle `for`. Utilizar la función `print()` para mostrar el elemento.\n"
   ]
  },
  {
   "cell_type": "code",
   "execution_count": 7,
   "id": "0w6WwK2OxV3Z",
   "metadata": {
    "id": "0w6WwK2OxV3Z"
   },
   "outputs": [
    {
     "name": "stdout",
     "output_type": "stream",
     "text": [
      "1\n",
      "2\n",
      "3\n",
      "4\n",
      "5\n",
      "6\n",
      "7\n",
      "8\n",
      "9\n",
      "10\n",
      "11\n",
      "12\n",
      "13\n"
     ]
    }
   ],
   "source": [
    "lista = range(1,14)\n",
    "for elemento in lista:\n",
    "    print(elemento)"
   ]
  },
  {
   "cell_type": "markdown",
   "id": "EQhGRBoaxWEz",
   "metadata": {
    "id": "EQhGRBoaxWEz"
   },
   "source": [
    "### Pregunta 6:"
   ]
  },
  {
   "cell_type": "markdown",
   "id": "m8M0vyukxJSF",
   "metadata": {
    "id": "m8M0vyukxJSF"
   },
   "source": [
    "Crear una lista utilizando la función `range()`. La lista debe contener al menos 13 elementos.\n",
    "\n",
    "Recorrer la lista utilizando el bucle `for`. Multiplicar por 2 solamente los elementos de la lista con valor impar.\n"
   ]
  },
  {
   "cell_type": "code",
   "execution_count": 8,
   "id": "ZJbOdB8Uvlux",
   "metadata": {
    "id": "ZJbOdB8Uvlux"
   },
   "outputs": [
    {
     "name": "stdout",
     "output_type": "stream",
     "text": [
      "1 2\n",
      "2\n",
      "3 6\n",
      "4\n",
      "5 10\n",
      "6\n",
      "7 14\n",
      "8\n",
      "9 18\n",
      "10\n",
      "11 22\n",
      "12\n",
      "13 26\n"
     ]
    }
   ],
   "source": [
    "lista = list(range(1,14))\n",
    "for elemento in lista:\n",
    "    if not elemento % 2 == 0:\n",
    "        print(elemento, elemento * 2)\n",
    "    else:\n",
    "        print(elemento)\n",
    "    "
   ]
  },
  {
   "cell_type": "markdown",
   "id": "b2C68jQpxpQq",
   "metadata": {
    "id": "b2C68jQpxpQq"
   },
   "source": [
    "### Pregunta 7:"
   ]
  },
  {
   "cell_type": "markdown",
   "id": "-ts7zxIWxrPd",
   "metadata": {
    "id": "-ts7zxIWxrPd"
   },
   "source": [
    "Recorrer la lista utilizando el bucle `for`. Si el elemento es un modelo de tipo de regresión, entonces mostrar (`print()`) el nombre del algoritmo de Machine Learning.\n",
    "\n",
    "Sugerencia: Utiliza la palabra `if` y el índice 0 para evaluar si es de tipo regresión. Y el índice 1 para mostrar el valor solicitado.\n"
   ]
  },
  {
   "cell_type": "code",
   "execution_count": 9,
   "id": "vU4eCxd3vlTb",
   "metadata": {
    "id": "vU4eCxd3vlTb"
   },
   "outputs": [
    {
     "name": "stdout",
     "output_type": "stream",
     "text": [
      "regresión simple\n",
      "regresión múltiple\n",
      "knn\n"
     ]
    }
   ],
   "source": [
    "lista_modelos = [('regresión', 'regresión simple'), ('regresión', 'regresión múltiple'), ('clasificación', 'árbol de decisión'), ('regresión', 'knn')]\n",
    "\n",
    "for modelo in lista_modelos:\n",
    "    if modelo[0] == 'regresión':\n",
    "        print(modelo[1])"
   ]
  },
  {
   "cell_type": "markdown",
   "id": "qWIjcq0c3V3X",
   "metadata": {
    "id": "qWIjcq0c3V3X"
   },
   "source": [
    "### Pregunta 8:"
   ]
  },
  {
   "cell_type": "markdown",
   "id": "agCsAZyA3XBS",
   "metadata": {
    "id": "agCsAZyA3XBS"
   },
   "source": [
    "Sumar los elementos de la siguiente lista.\n",
    "\n",
    "Sugerencia: Utiliza el bucle `for` para sumar cada uno de los elementos de la lista."
   ]
  },
  {
   "cell_type": "code",
   "execution_count": 10,
   "id": "5u9A4SPK3XWp",
   "metadata": {
    "id": "5u9A4SPK3XWp"
   },
   "outputs": [
    {
     "name": "stdout",
     "output_type": "stream",
     "text": [
      "39\n"
     ]
    }
   ],
   "source": [
    "lista_para_sumar = [10, 5, 2, 4, 18]\n",
    "suma = 0\n",
    "# Colocar debajo tu respuesta.\n",
    "for elemento in lista_para_sumar:\n",
    "    suma = suma + elemento\n",
    "print(suma)"
   ]
  },
  {
   "cell_type": "markdown",
   "id": "0jdjArPh3zCS",
   "metadata": {
    "id": "0jdjArPh3zCS"
   },
   "source": [
    "### Pregunta 9:"
   ]
  },
  {
   "cell_type": "markdown",
   "id": "0cUbR6LS30Zy",
   "metadata": {
    "id": "0cUbR6LS30Zy"
   },
   "source": [
    "Crear una nueva lista llamada `nombres_en_mayuscula`.\n",
    "\n",
    "La nueva lista almacenará los nombres en mayúscula de la lista `nombres`.\n",
    "\n",
    "Sugerencia: Utiliza el bucle `for` para asignar los elementos de la lista.\n",
    "\n",
    "**TIP 1:** La estructura string tiene una función llamada `.upper()`. Esta función retorna la cadena en mayúscula.\n",
    "\n",
    "**TIP 2:** La estructura lista tiene una función llamada `.append()` que permite agregar elementos a una lista.\n",
    "\n",
    "Ejemplo:\n",
    "\n",
    "```\n",
    "nueva_lista = []\n",
    "\n",
    "nueva_lista.append(\"Agrego un elemento\")\n",
    "\n",
    "# Resultado: nueva_lista = [\"Agrego un elemento\"]\n",
    "```\n",
    "\n"
   ]
  },
  {
   "cell_type": "code",
   "execution_count": 11,
   "id": "du_AFzNF3463",
   "metadata": {
    "id": "du_AFzNF3463"
   },
   "outputs": [
    {
     "name": "stdout",
     "output_type": "stream",
     "text": [
      "['ANA', 'JUAN', 'PEDRO', 'MARIA', 'CARLOS']\n"
     ]
    }
   ],
   "source": [
    "nombres = [\"Ana\", \"Juan\", \"Pedro\", \"Maria\", \"Carlos\"]\n",
    "\n",
    "nombres_en_mayuscula = []\n",
    "\n",
    "# Colocar debajo tu respuesta.\n",
    "\n",
    "for nombre in nombres:\n",
    "    nombres_en_mayuscula.append(nombre.upper())\n",
    "    \n",
    "print(nombres_en_mayuscula)"
   ]
  },
  {
   "cell_type": "markdown",
   "id": "iDJv25Rg5UTi",
   "metadata": {
    "id": "iDJv25Rg5UTi"
   },
   "source": [
    "### Pregunta 10:"
   ]
  },
  {
   "cell_type": "markdown",
   "id": "kBLKELMd5Vvt",
   "metadata": {
    "id": "kBLKELMd5Vvt"
   },
   "source": [
    "Crear una nueva lista llamada `nombres_en_minuscula`.\n",
    "\n",
    "La nueva lista almacenará los nombres en minúscula de la lista `nombres_en_mayuscula` que creaste en la pregunta anterior.\n",
    "\n",
    "Sugerencia: Utiliza el bucle `for` para asignar los elementos de la lista.\n",
    "\n",
    "**TIP 1:** La estructura string tiene una función llamada `.lower()`. Esta función retorna la cadena en minúscula.\n",
    "\n",
    "**TIP 2:** La estructura lista tiene una función llamada `.append()` que permite agregar elementos a una lista.\n",
    "\n",
    "Ejemplo:\n",
    "\n",
    "```\n",
    "nueva_lista = []\n",
    "\n",
    "nueva_lista.append(\"Agrego un elemento\")\n",
    "\n",
    "# Resultado: nueva_lista = [\"Agrego un elemento\"]\n",
    "```\n",
    "\n"
   ]
  },
  {
   "cell_type": "code",
   "execution_count": 12,
   "id": "y9-vdZ4Q5lOE",
   "metadata": {
    "id": "y9-vdZ4Q5lOE"
   },
   "outputs": [
    {
     "name": "stdout",
     "output_type": "stream",
     "text": [
      "['ana', 'juan', 'pedro', 'maria', 'carlos']\n"
     ]
    }
   ],
   "source": [
    "nombres_en_minuscula = []\n",
    "\n",
    "# Colocar debajo tu respuesta.\n",
    "for nombre in nombres_en_mayuscula:\n",
    "    nombres_en_minuscula.append(nombre.lower())\n",
    "\n",
    "print(nombres_en_minuscula)"
   ]
  },
  {
   "cell_type": "markdown",
   "id": "6-pbZdRN5usG",
   "metadata": {
    "id": "6-pbZdRN5usG"
   },
   "source": [
    "### Pregunta 11:"
   ]
  },
  {
   "cell_type": "markdown",
   "id": "NenL1ObG5wSb",
   "metadata": {
    "id": "NenL1ObG5wSb"
   },
   "source": [
    "Buscar el elemento \"Bolivia\" en la lista de nombres de paises.\n",
    "\n",
    "Sugerencia: Dentro del bucle `for` puedes utilizar la palabra reservada `break`. Esto detendrá inmediatamente la ejecución del bucle. También aplica para el bucle `while`.\n"
   ]
  },
  {
   "cell_type": "code",
   "execution_count": 13,
   "id": "G9b265525wm-",
   "metadata": {
    "id": "G9b265525wm-"
   },
   "outputs": [
    {
     "name": "stdout",
     "output_type": "stream",
     "text": [
      "El país Bolivia no se encontró.\n"
     ]
    }
   ],
   "source": [
    "paises = (\"Peru\", \"Colombia\", \"Chile\", \"Argentina\", \"Ecuador\")\n",
    "\n",
    "pais_a_buscar = \"Bolivia\"\n",
    "\n",
    "encontrado = False\n",
    "\n",
    "for pais in paises:\n",
    "    # Coloca acá tu respuesta.\n",
    "    if pais == pais_a_buscar:\n",
    "        encontrado = True\n",
    "        break\n",
    "\n",
    "if encontrado:\n",
    "    print(f\"El país {pais_a_buscar} sí se encontró.\")\n",
    "else:\n",
    "    print(f\"El país {pais_a_buscar} no se encontró.\")"
   ]
  },
  {
   "cell_type": "markdown",
   "id": "OoxJ6Ym18oo3",
   "metadata": {
    "id": "OoxJ6Ym18oo3"
   },
   "source": [
    "### Pregunta 12:"
   ]
  },
  {
   "cell_type": "markdown",
   "id": "09N_su578qDm",
   "metadata": {
    "id": "09N_su578qDm"
   },
   "source": [
    "Recorrer los valores del diccionario y mostrar la clave y valor con el método `print()`.\n",
    "\n",
    "\n",
    "```\n",
    "estudiante = {\n",
    "  \"nombre\": \"Francisco\",\n",
    "  \"edad\": 18,\n",
    "  \"curso\": \"Matemáticas\"\n",
    "}\n",
    "```\n",
    "\n",
    "El resultado esperado es:\n",
    "\n",
    "\n",
    "```\n",
    "nombre: Francisco\n",
    "edad: 18\n",
    "curso: Matemáticas\n",
    "```\n",
    "\n",
    "Sugerencia: Los diccionarios tienen un método llamado `items()` el cual retorna dos variables, el `key` o la `clave` y el `valor` o `value`.\n",
    "\n"
   ]
  },
  {
   "cell_type": "code",
   "execution_count": 14,
   "id": "Z0FLyEr48qcR",
   "metadata": {
    "id": "Z0FLyEr48qcR"
   },
   "outputs": [
    {
     "name": "stdout",
     "output_type": "stream",
     "text": [
      "nombre : Francisco\n",
      "edad : 18\n",
      "curso : Matemáticas\n"
     ]
    }
   ],
   "source": [
    "estudiante = {\n",
    "  \"nombre\": \"Francisco\",\n",
    "  \"edad\": 18,\n",
    "  \"curso\": \"Matemáticas\"\n",
    "}\n",
    "\n",
    "for key, value in estudiante.items():\n",
    "    print(key,':', value)\n",
    "    # Coloca acá tu respuesta.\n"
   ]
  },
  {
   "cell_type": "markdown",
   "id": "3Rqtp8lm9oIM",
   "metadata": {
    "id": "3Rqtp8lm9oIM"
   },
   "source": [
    "### Pregunta 13:"
   ]
  },
  {
   "cell_type": "markdown",
   "id": "xNIsvo_29qD0",
   "metadata": {
    "id": "xNIsvo_29qD0"
   },
   "source": [
    "Recorre la lista de elementos y muestra el índice de cada elemento de la lista con la función `print()`.\n",
    "\n",
    "Sugerencia: Utiliza la función `enumerate()`.\n",
    "\n",
    "Toma como referencia la documentación de [geeksforgeeks](https://www.geeksforgeeks.org/enumerate-in-python/) y [python.org](https://docs.python.org/3/library/functions.html#enumerate)."
   ]
  },
  {
   "cell_type": "code",
   "execution_count": 15,
   "id": "Com1VdGa9zDG",
   "metadata": {
    "id": "Com1VdGa9zDG"
   },
   "outputs": [
    {
     "name": "stdout",
     "output_type": "stream",
     "text": [
      "0 -> 1\n",
      "1 -> 2\n",
      "2 -> 3\n",
      "3 -> 4\n",
      "4 -> 5\n",
      "5 -> 6\n",
      "6 -> 7\n",
      "7 -> 8\n",
      "8 -> 9\n",
      "9 -> 10\n",
      "10 -> 11\n",
      "11 -> 12\n",
      "12 -> 13\n",
      "13 -> 14\n",
      "14 -> 15\n",
      "15 -> 16\n",
      "16 -> 17\n",
      "17 -> 18\n",
      "18 -> 19\n",
      "19 -> 20\n",
      "20 -> 21\n",
      "21 -> 22\n",
      "22 -> 23\n",
      "23 -> 24\n",
      "24 -> 25\n",
      "25 -> 26\n",
      "26 -> 27\n",
      "27 -> 28\n",
      "28 -> 29\n",
      "29 -> 30\n",
      "30 -> 31\n",
      "31 -> 32\n",
      "32 -> 33\n",
      "33 -> 34\n",
      "34 -> 35\n",
      "35 -> 36\n",
      "36 -> 37\n",
      "37 -> 38\n",
      "38 -> 39\n"
     ]
    }
   ],
   "source": [
    "for indice, elemento in enumerate(range(1,40)):\n",
    "    print(indice,'->', elemento)"
   ]
  },
  {
   "cell_type": "markdown",
   "id": "LoVFt_Wt-W8w",
   "metadata": {
    "id": "LoVFt_Wt-W8w"
   },
   "source": [
    "### Pregunta 14:"
   ]
  },
  {
   "cell_type": "markdown",
   "id": "keIViOmG-ZMf",
   "metadata": {
    "id": "keIViOmG-ZMf"
   },
   "source": [
    "Corregir la siguiente celda de código para mostrar la condición correcta."
   ]
  },
  {
   "cell_type": "code",
   "execution_count": 16,
   "id": "50fFPpTo-ZiE",
   "metadata": {
    "id": "50fFPpTo-ZiE"
   },
   "outputs": [
    {
     "name": "stdout",
     "output_type": "stream",
     "text": [
      "16 es mayor a 0.01\n"
     ]
    }
   ],
   "source": [
    "if 16 > 0.01:\n",
    "    print('16 es mayor a 0.01')\n",
    "else:\n",
    "    print('16 es menor a 0.01')"
   ]
  },
  {
   "cell_type": "markdown",
   "id": "HrNG0C9t-64e",
   "metadata": {
    "id": "HrNG0C9t-64e"
   },
   "source": [
    "### Pregunta 15:"
   ]
  },
  {
   "cell_type": "markdown",
   "id": "DJNhX8FS-83G",
   "metadata": {
    "id": "DJNhX8FS-83G"
   },
   "source": [
    "Corregir la siguiente celda de código para mostrar el resultado correcto.\n",
    "\n",
    "Sugerencia: Debes utilizar una función para transformar el texto a minúscula."
   ]
  },
  {
   "cell_type": "code",
   "execution_count": 17,
   "id": "FH_f_she-8kD",
   "metadata": {
    "id": "FH_f_she-8kD"
   },
   "outputs": [
    {
     "name": "stdout",
     "output_type": "stream",
     "text": [
      "La palabra Python contiene la letra 'o' en minúscula.\n"
     ]
    }
   ],
   "source": [
    "letras = [\"P\", \"y\", \"t\", \"h\", \"O\", \"n\"]\n",
    "\n",
    "for caracter in letras:\n",
    "    if 'o' == caracter.lower():\n",
    "        print(\"La palabra Python contiene la letra 'o' en minúscula.\")"
   ]
  },
  {
   "cell_type": "markdown",
   "id": "scDw-RA4ZEk2",
   "metadata": {
    "id": "scDw-RA4ZEk2"
   },
   "source": [
    "### Pregunta 16:"
   ]
  },
  {
   "cell_type": "markdown",
   "id": "X-o6VvD0ZZUs",
   "metadata": {
    "id": "X-o6VvD0ZZUs"
   },
   "source": [
    "Busca un elemento de la lista utilizando la palabra `in`.\n",
    "\n",
    "Ejemplo:\n",
    "\n",
    "\n",
    "\n",
    "```\n",
    "mi_lista = ['hoy', 'es', 'un', 'día', 'más', 'de', 'clases']\n",
    "\n",
    "palabra_a_buscar = 'un'\n",
    "\n",
    "existe_en_la_lista = palabra_a_buscar in mi_lista\n",
    "```\n",
    "\n"
   ]
  },
  {
   "cell_type": "code",
   "execution_count": 18,
   "id": "uEuQqERkbiA3",
   "metadata": {
    "id": "uEuQqERkbiA3"
   },
   "outputs": [
    {
     "name": "stdout",
     "output_type": "stream",
     "text": [
      "False\n"
     ]
    }
   ],
   "source": [
    "mi_lista = ['data scientist', 'machine learning engineer']\n",
    "\n",
    "palabra_a_buscar = 'machine' # <---- ACÁ COLOCA LA PALABRA QUE QUIERES BUSCAR\n",
    "\n",
    "existe_en_la_lista = palabra_a_buscar in mi_lista\n",
    "\n",
    "print(existe_en_la_lista)"
   ]
  },
  {
   "cell_type": "markdown",
   "id": "aJfABAYrb97u",
   "metadata": {
    "id": "aJfABAYrb97u"
   },
   "source": [
    "### Pregunta 17:"
   ]
  },
  {
   "cell_type": "markdown",
   "id": "59gnUvtXb_hp",
   "metadata": {
    "id": "59gnUvtXb_hp"
   },
   "source": [
    "Crear un diccionario con al menos 3 llaves.\n",
    "\n",
    "Utilizar la palabra reservada in para consultar uno de los elementos del diccionario.\n",
    "\n",
    "Ejemplo:\n",
    "\n",
    "\n",
    "\n",
    "```\n",
    "a = {'o':0, 'p':9}\n",
    "\n",
    "print(('o', 0) in a.items())\n",
    "```\n",
    "\n"
   ]
  },
  {
   "cell_type": "code",
   "execution_count": 19,
   "id": "vkM8_4-CcAan",
   "metadata": {
    "id": "vkM8_4-CcAan"
   },
   "outputs": [
    {
     "name": "stdout",
     "output_type": "stream",
     "text": [
      "True\n"
     ]
    }
   ],
   "source": [
    "letras = {'a': 1, 'b': 2, 'c': 3 }\n",
    "\n",
    "print( ('a', 1) in letras.items())\n"
   ]
  },
  {
   "cell_type": "markdown",
   "id": "pGMYzbKPc2bX",
   "metadata": {
    "id": "pGMYzbKPc2bX"
   },
   "source": [
    "### Pregunta 18:"
   ]
  },
  {
   "cell_type": "markdown",
   "id": "9A7ZcNpoc4M5",
   "metadata": {
    "id": "9A7ZcNpoc4M5"
   },
   "source": [
    "Crear un bucle `for` que muestre números de dos en dos.\n",
    "\n",
    "Debes utilizar `print()` para mostrar el resultado.\n",
    "\n",
    "Debes utilizar `range()` para generar los números en una lista.\n",
    "\n",
    "Sugerencia: Revisar la documentación de [w3schools](https://www.w3schools.com/python/ref_func_range.asp) y [python.org](https://docs.python.org/3/library/stdtypes.html#range)."
   ]
  },
  {
   "cell_type": "code",
   "execution_count": 20,
   "id": "FHhNsW2xdQym",
   "metadata": {
    "id": "FHhNsW2xdQym"
   },
   "outputs": [
    {
     "name": "stdout",
     "output_type": "stream",
     "text": [
      "1\n",
      "3\n",
      "5\n",
      "7\n",
      "9\n",
      "11\n",
      "13\n",
      "15\n",
      "17\n",
      "19\n",
      "21\n",
      "23\n",
      "25\n",
      "27\n",
      "29\n",
      "31\n",
      "33\n",
      "35\n",
      "37\n",
      "39\n"
     ]
    }
   ],
   "source": [
    "for numero in list(range(1,40,2)):\n",
    "    print(numero)"
   ]
  },
  {
   "cell_type": "markdown",
   "id": "HvMiO6yJdgn1",
   "metadata": {
    "id": "HvMiO6yJdgn1"
   },
   "source": [
    "### Pregunta 19:"
   ]
  },
  {
   "cell_type": "markdown",
   "id": "m9XgW2rteC4m",
   "metadata": {
    "id": "m9XgW2rteC4m"
   },
   "source": [
    "La función lambda es una función anónima.\n",
    "\n",
    "Su estructura es la siguiente:\n",
    "\n",
    "\n",
    "```\n",
    "lambda arguments : expression\n",
    "```\n",
    "\n",
    "Para poder utilizarla basta con colocar asignar la función a una variable.\n",
    "\n",
    "Ejemplo:\n",
    "\n",
    "\n",
    "\n",
    "```\n",
    "x = lambda a : a + 10\n",
    "print(x(5))\n",
    "```\n",
    "\n",
    "El resultado es:\n",
    "\n",
    "```15```\n",
    "\n",
    "Crea una función lambda similar a la del ejemplo.\n",
    "\n",
    "\n",
    "\n"
   ]
  },
  {
   "cell_type": "code",
   "execution_count": 21,
   "id": "Rc-9TyQudiVR",
   "metadata": {
    "id": "Rc-9TyQudiVR"
   },
   "outputs": [
    {
     "name": "stdout",
     "output_type": "stream",
     "text": [
      "100\n"
     ]
    }
   ],
   "source": [
    "y = lambda number : number * 10\n",
    "print(y(10))"
   ]
  },
  {
   "cell_type": "markdown",
   "id": "KHK50U8ndinN",
   "metadata": {
    "id": "KHK50U8ndinN"
   },
   "source": [
    "### Pregunta 20:"
   ]
  },
  {
   "cell_type": "markdown",
   "id": "49Z77yZMesy0",
   "metadata": {
    "id": "49Z77yZMesy0"
   },
   "source": [
    "Encuentra y corrige el error del siguiente código de Python 3.\n",
    "\n",
    "\n",
    "```\n",
    "A = [\"a\", \"b\", \"c\"]\n",
    "B = [\"a\", \"d\", \"e\"]\n",
    "\n",
    "for a, b in zip(A, B):\n",
    "    print a, b, a == b\n",
    "```\n",
    "\n",
    "Toma como referencia la documentación de [w3schools](https://www.w3schools.com/python/ref_func_zip.asp) y [python.org](https://docs.python.org/3/library/functions.html#zip).\n"
   ]
  },
  {
   "cell_type": "code",
   "execution_count": 22,
   "id": "76gcTjqydkC7",
   "metadata": {
    "id": "76gcTjqydkC7"
   },
   "outputs": [
    {
     "name": "stdout",
     "output_type": "stream",
     "text": [
      "a a True\n",
      "b d False\n",
      "c e False\n"
     ]
    }
   ],
   "source": [
    "A = [\"a\", \"b\", \"c\"]\n",
    "B = [\"a\", \"d\", \"e\"]\n",
    "\n",
    "for a, b in zip(A, B):\n",
    "    print(a, b, a == b)"
   ]
  },
  {
   "cell_type": "code",
   "execution_count": null,
   "id": "26b64a72-b1d2-4536-b40b-e28fe6a44a9e",
   "metadata": {},
   "outputs": [],
   "source": []
  }
 ],
 "metadata": {
  "colab": {
   "provenance": [],
   "toc_visible": true
  },
  "kernelspec": {
   "display_name": "Python 3 (ipykernel)",
   "language": "python",
   "name": "python3"
  },
  "language_info": {
   "codemirror_mode": {
    "name": "ipython",
    "version": 3
   },
   "file_extension": ".py",
   "mimetype": "text/x-python",
   "name": "python",
   "nbconvert_exporter": "python",
   "pygments_lexer": "ipython3",
   "version": "3.11.7"
  }
 },
 "nbformat": 4,
 "nbformat_minor": 5
}
