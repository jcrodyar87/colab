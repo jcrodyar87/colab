{
  "cells": [
    {
      "cell_type": "markdown",
      "source": [
        "<img src=\"https://raw.githubusercontent.com/sebastianVP/sebastianVP/main/toulouselautrec_logo.jpg\" alt= \"LOGO CAT\" width=400 height=400 align = \"right\">\n",
        "\n",
        "<br>\n",
        "<h1><font color=\"#7F000E\" size=5>TOULOUSE LAUTREC </font></h1>\n",
        "<h1><font color=\"#7F000R\" size=6> DATA SCIENCE MACHINE LEARNING</font></h1>\n",
        "<h1><font color=\"#7F000E\" size=4> ANALISIS DE DATOS CON PYTHON\n",
        " </font></h1>\n",
        "<br>\n",
        "<br>\n",
        "<div style=\"text-align:left\">\n",
        "<font color=\"#7F000E\" size=3> Ing. Alexander Valdez</font><br>\n",
        "<font color=\"#7F000E\" size=3> Curso 2271, Clases Lunes y Miercoles 20:00-22:30pm </font><br>\n",
        "<font color=\"#7F000e\" size=3> Quinta Sesión - 2</font><br>\n",
        "</div>"
      ],
      "metadata": {
        "id": "CYGiIto6PSPm"
      }
    },
    {
      "cell_type": "markdown",
      "metadata": {
        "id": "2U36-3Lh9DLg"
      },
      "source": [
        "\n",
        "<h1 style=\"color:purple\"> Métricas para Regresión </h1>\n",
        "<img src=\"https://miro.medium.com/v2/resize:fit:1400/format:webp/0*Nid8Ou7rY73YFgpx.jpg\" align=\"left\" width=\"500\" height=\"600\">"
      ]
    },
    {
      "cell_type": "markdown",
      "metadata": {
        "id": "F9gm1t-H9DLq"
      },
      "source": [
        "<br><br>\n",
        "<h3 style=\"color:purple\">Error absoluto máximo (M)</h3>\n",
        "\n",
        "$y$ : valor verdadero\n",
        "\n",
        "$\\hat{y}$ : valor predicho\n",
        "\n",
        "$$\\text{M}(y, \\hat{y}) = max(\\left| y_i - \\hat{y}_i \\right|)$$\n"
      ]
    },
    {
      "cell_type": "markdown",
      "source": [],
      "metadata": {
        "id": "FuYGgegbPP1S"
      }
    },
    {
      "cell_type": "code",
      "execution_count": null,
      "metadata": {
        "id": "UKcVZ_td9DLs",
        "outputId": "59fbd4f0-4c76-4517-8c95-8dc822b6d1af",
        "colab": {
          "base_uri": "https://localhost:8080/"
        }
      },
      "outputs": [
        {
          "output_type": "execute_result",
          "data": {
            "text/plain": [
              "10"
            ]
          },
          "metadata": {},
          "execution_count": 1
        }
      ],
      "source": [
        "from sklearn.metrics import max_error\n",
        "\n",
        "y_verdadero = [1, 2, 3, 4, 5]\n",
        "y_predicho = [1, 2, 3, 4, -5]\n",
        "max_error(y_verdadero, y_predicho)"
      ]
    },
    {
      "cell_type": "markdown",
      "metadata": {
        "scrolled": false,
        "id": "XM_5J4ZX9DLz"
      },
      "source": [
        "<br><br>\n",
        "<h3 style=\"color:purple\">Error absoluto medio (mean absolute error - MAE)</h3>\n",
        "\n",
        "$y$ : valor verdadero\n",
        "\n",
        "$\\hat{y}$ : valor predicho\n",
        "\n",
        "$n$ : tamaño de la muestra\n",
        "\n",
        "$$\\text{MAE}(y, \\hat{y}) = \\frac{1}{n} \\sum_{i=1}^{n} \\left| y_i - \\hat{y}_i \\right|$$\n",
        "\n",
        "\n"
      ]
    },
    {
      "cell_type": "code",
      "execution_count": null,
      "metadata": {
        "id": "cgw5_j8m9DL1",
        "outputId": "0c239ee3-f795-47f7-bd07-2271785f7bb8"
      },
      "outputs": [
        {
          "data": {
            "text/plain": [
              "2.0"
            ]
          },
          "execution_count": 2,
          "metadata": {},
          "output_type": "execute_result"
        }
      ],
      "source": [
        "from sklearn.metrics import mean_absolute_error\n",
        "\n",
        "y_verdadero = [1, 2, 3, 4, 5]\n",
        "y_predicho = [1, 2, 3, 4, -5]\n",
        "mean_absolute_error(y_verdadero, y_predicho)"
      ]
    },
    {
      "cell_type": "markdown",
      "metadata": {
        "id": "WULBLlFU9DL3"
      },
      "source": [
        "<br><br>\n",
        "<h3 style=\"color:purple\">Error cuadrático medio (mean squared error - MSE)</h3>\n",
        "$y$ : valor verdadero\n",
        "\n",
        "$\\hat{y}$ : valor predicho\n",
        "\n",
        "$n$ : tamaño de la muestra\n",
        "\n",
        "$$\\text{MSE}(y, \\hat{y}) = \\frac{1}{n} \\sum_{i=1}^{n} (y_i - \\hat{y}_i)^2$$\n"
      ]
    },
    {
      "cell_type": "code",
      "execution_count": null,
      "metadata": {
        "id": "celfvzgD9DL4",
        "outputId": "d28dc1bd-b8be-4b78-a77e-aaf2344416de"
      },
      "outputs": [
        {
          "data": {
            "text/plain": [
              "20.0"
            ]
          },
          "execution_count": 3,
          "metadata": {},
          "output_type": "execute_result"
        }
      ],
      "source": [
        "from sklearn.metrics import mean_squared_error\n",
        "\n",
        "y_verdadero = [1, 2, 3, 4, 5]\n",
        "y_predicho = [1, 2, 3, 4, -5]\n",
        "mean_squared_error(y_verdadero, y_predicho)"
      ]
    },
    {
      "cell_type": "markdown",
      "metadata": {
        "id": "VvcrLDXt9DL6"
      },
      "source": [
        "<br><br>\n",
        "<h3 style=\"color:purple\">Suma de los cuadrados de los residuos (RSS)</h3>\n",
        "\n",
        "$y$ : valor verdadero\n",
        "\n",
        "$\\hat{y}$ : valor predicho\n",
        "\n",
        "$n$ : tamaño de la muestra\n",
        "\n",
        "$$\\text{RSS}(y, \\hat{y}) = \\sum_{i=1}^{n} (y_i - \\hat{y}_i)^2$$"
      ]
    },
    {
      "cell_type": "code",
      "execution_count": null,
      "metadata": {
        "id": "Qv-4ZoVM9DL7",
        "outputId": "a3df48bb-6139-4b12-cb6a-73eb321cfe3e"
      },
      "outputs": [
        {
          "data": {
            "text/plain": [
              "100.0"
            ]
          },
          "execution_count": 4,
          "metadata": {},
          "output_type": "execute_result"
        }
      ],
      "source": [
        "from sklearn.metrics import mean_squared_error\n",
        "\n",
        "y_verdadero = [1, 2, 3, 4, 5]\n",
        "y_predicho = [1, 2, 3, 4, -5]\n",
        "mean_squared_error(y_verdadero, y_predicho)*len(y_predicho)"
      ]
    },
    {
      "cell_type": "markdown",
      "metadata": {
        "id": "byKzmeVS9DL8"
      },
      "source": [
        "<br><br>\n",
        "<h3 style=\"color:purple\">Raíz cuadrada del error cuadrático medio (RMSE)</h3>\n",
        "\n",
        "$y$ : valor verdadero\n",
        "\n",
        "$\\hat{y}$ : valor predicho\n",
        "\n",
        "$n$ : tamaño de la muestra\n",
        "\n",
        "$$\\text{RMSE}(y, \\hat{y}) = \\sqrt{\\frac{1}{n} \\sum_{i=1}^{n} (y_i - \\hat{y}_i)^2}$$"
      ]
    },
    {
      "cell_type": "code",
      "execution_count": null,
      "metadata": {
        "id": "tWhPUxMP9DL-",
        "outputId": "c6380d73-d811-447e-b206-0d169b4b004a"
      },
      "outputs": [
        {
          "data": {
            "text/plain": [
              "4.47213595499958"
            ]
          },
          "execution_count": 5,
          "metadata": {},
          "output_type": "execute_result"
        }
      ],
      "source": [
        "from sklearn.metrics import mean_squared_error\n",
        "\n",
        "y_verdadero = [1, 2, 3, 4, 5]\n",
        "y_predicho = [1, 2, 3, 4, -5]\n",
        "mean_squared_error(y_verdadero, y_predicho, squared=False)"
      ]
    },
    {
      "cell_type": "markdown",
      "metadata": {
        "id": "26GEYhHH9DMA"
      },
      "source": [
        "<br><br>\n",
        "<h3 style=\"color:purple\">R^2 (Coeficiente de determinación)</h3>\n",
        "\n",
        "$y$ : valor verdadero\n",
        "\n",
        "$\\hat{y}$ : valor predicho\n",
        "\n",
        "$\\bar{y}$ : promedio de los valores verdaderos\n",
        "\n",
        "$n$ : tamaño de la muestra\n",
        "\n",
        "$$R^2(y, \\hat{y}) = 1 - \\frac{\\sum_{i=1}^{n} (y_i - \\hat{y}_i)^2}{\\sum_{i=1}^{n} (y_i - \\bar{y})^2}$$"
      ]
    },
    {
      "cell_type": "code",
      "execution_count": null,
      "metadata": {
        "id": "z5cUngiW9DMC",
        "outputId": "660a9e31-ce5a-405b-9475-2fb44cdc998e",
        "colab": {
          "base_uri": "https://localhost:8080/"
        }
      },
      "outputs": [
        {
          "output_type": "execute_result",
          "data": {
            "text/plain": [
              "0.09999999999999998"
            ]
          },
          "metadata": {},
          "execution_count": 2
        }
      ],
      "source": [
        "from sklearn.metrics import r2_score\n",
        "\n",
        "y_verdadero = [1, 2, 3, 4, 5]\n",
        "y_predicho = [1, 2, 3, 4, 2]\n",
        "r2_score(y_verdadero, y_predicho)"
      ]
    },
    {
      "cell_type": "markdown",
      "metadata": {
        "id": "jQVmsfHn9DMD"
      },
      "source": [
        "<br><br>\n",
        "Spiess, Andrej-Nikolai, and Natalie Neumeyer. \"An evaluation of R2 as an inadequate measure for nonlinear models in pharmacological and biochemical research: a Monte Carlo approach.\" BMC pharmacology 10.1 (2010): 1-11."
      ]
    },
    {
      "cell_type": "markdown",
      "metadata": {
        "id": "SRTv9GJE9DME"
      },
      "source": [
        "<BR><BR><BR><BR><BR><BR><BR><BR><BR><BR><BR><BR><BR><BR><BR><BR><BR><BR><BR><BR><BR><BR><BR><BR>"
      ]
    }
  ],
  "metadata": {
    "kernelspec": {
      "display_name": "Python 3",
      "language": "python",
      "name": "python3"
    },
    "language_info": {
      "codemirror_mode": {
        "name": "ipython",
        "version": 3
      },
      "file_extension": ".py",
      "mimetype": "text/x-python",
      "name": "python",
      "nbconvert_exporter": "python",
      "pygments_lexer": "ipython3",
      "version": "3.8.5"
    },
    "colab": {
      "provenance": []
    }
  },
  "nbformat": 4,
  "nbformat_minor": 0
}