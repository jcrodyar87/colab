{
  "nbformat": 4,
  "nbformat_minor": 0,
  "metadata": {
    "colab": {
      "provenance": []
    },
    "kernelspec": {
      "name": "python3",
      "display_name": "Python 3"
    },
    "language_info": {
      "name": "python"
    }
  },
  "cells": [
    {
      "cell_type": "markdown",
      "source": [
        "<img src=\"https://raw.githubusercontent.com/sebastianVP/sebastianVP/main/toulouselautrec_logo.jpg\" alt= \"LOGO CAT\" width=400 height=400 align = \"right\">\n",
        "\n",
        "<br>\n",
        "<h1><font color=\"#7F000E\" size=5>TOULOUSE LAUTREC </font></h1>\n",
        "<h1><font color=\"#7F000R\" size=6> VISUALIZACION DE DATOS CON PYTHON </font></h1>\n",
        "<h1><font color=\"#7F000E\" size=4>\n",
        " </font></h1>\n",
        "<br>\n",
        "<br>\n",
        "<div style=\"text-align:right\">\n",
        "<font color=\"#7F000E\" size=3> Ing. Alexander Valdez</font><br>\n",
        "<font color=\"#7F000E\" size=3> Curso 2274, Clases LUNES y MIERCOLES 20:00-22:30pm </font><br>\n",
        "<font color=\"#7F000e\" size=3> Tercera Sesion 17/07/2024 </font><br>\n",
        "</div>"
      ],
      "metadata": {
        "id": "RGWCQwQE5z6g"
      }
    },
    {
      "cell_type": "markdown",
      "source": [
        "# **¿QUE ES EL DASHBOARDING?**"
      ],
      "metadata": {
        "id": "i9iPDVpf52N8"
      }
    },
    {
      "cell_type": "markdown",
      "source": [
        "Dashboarding es una tecnología ligada a Business Intelligence que se refiere a la creación y diseño de dashboards o paneles de control visuales que permiten visualizar y analizar datos de una forma sencilla e intuitiva.\n",
        "Los dashboards se presentan en una única pantalla y su objetivo es proporcionar una vista general y en tiempo real del rendimiento de una empresa o de un proceso de negocio específico. Estos paneles de control suelen estar compuestos por gráficos, tablas, indicadores y otros elementos visuales que facilitan la comprensión de los datos y permiten tomar decisiones informadas de forma rápida.\n",
        "Entre las tecnologías más populares de dashboarding se encuentran Power BI de Microsoft, Tableau, QlikView y Domo, entre otras. Estas herramientas permiten la creación de dashboards personalizados y la visualización de datos en tiempo real, lo que facilita la toma de decisiones y la mejora del rendimiento empresarial.\n",
        "\n",
        "## **¿El Dashboarding puede funcionar sin BI?**\n",
        "Si bien el dashboarding está muy relacionado con Business Intelligence (BI), en teoría es posible crear un dashboard sin utilizar tecnologías de BI. Sin embargo, el dashboarding suele ser utilizado para visualizar datos que se han recopilado y procesado utilizando herramientas de BI, lo que permite obtener una visión general y en tiempo real del rendimiento empresarial.\n",
        "\n",
        "Sin el uso de BI, puede ser más difícil obtener datos precisos y en tiempo real para mostrar en el dashboard, lo que limitaría su capacidad para proporcionar una visión completa y actualizada del rendimiento empresarial. Además, las herramientas de BI suelen ofrecer una amplia gama de opciones de visualización de datos, lo que facilita la creación de dashboards efectivos."
      ],
      "metadata": {
        "id": "8mrGxURK52S0"
      }
    },
    {
      "cell_type": "markdown",
      "source": [
        "# ¿Cuáles son las claves para un buen dashboard?"
      ],
      "metadata": {
        "id": "lLaiv3yG52WV"
      }
    },
    {
      "cell_type": "markdown",
      "source": [
        "Un buen dashboard debe ser fácil de entender, ofrecer información clara y relevante, y permitir al usuario tomar decisiones informadas basadas en los datos presentados. Aquí hay algunas claves para crear un buen dashboard:\n",
        "* Seleccionar los datos adecuados: es importante seleccionar los datos adecuados para su dashboard. El objetivo es proporcionar una visión general y significativa de la información más relevante.\n",
        "* Simplificar la visualización: la simplicidad es clave en un dashboard. La información debe ser fácil de entender y los gráficos deben ser claros y fáciles de leer.\n",
        "* Mostrar la información en tiempo real: la información presentada en el dashboard debe estar actualizada en tiempo real para que el usuario pueda tomar decisiones informadas.\n",
        "* Personalizar la información: cada usuario puede tener necesidades y preferencias diferentes, por lo que es importante que el dashboard pueda ser personalizado para adaptarse a cada usuario.\n",
        "* Diseñar una interfaz fácil de usar: el dashboard debe ser fácil de usar y navegar. La información debe estar organizada de manera lógica y fácil de encontrar.\n",
        "* Incluir herramientas de análisis: un buen dashboard debe incluir herramientas de análisis para que los usuarios puedan profundizar en los datos y obtener información más detallada.\n",
        "* Evaluar y ajustar el dashboard con regularidad: el dashboard debe ser evaluado y ajustado con regularidad para asegurarse de que sigue siendo relevante y útil para los usuarios.\n",
        "\n",
        "En resumen, para crear un buen dashboard, es fundamental seleccionar los datos adecuados, simplificar la visualización, mostrar la información en tiempo real, personalizar la información, diseñar una interfaz fácil de emplear, incluir herramientas de análisis y evaluar y ajustar el dashboard con regularidad."
      ],
      "metadata": {
        "id": "LnzwX0ZX6pyo"
      }
    },
    {
      "cell_type": "markdown",
      "source": [
        "## **EJEMPLO**"
      ],
      "metadata": {
        "id": "jAjqt4Zb6p56"
      }
    },
    {
      "cell_type": "markdown",
      "source": [
        "LINK: https://dash.plotly.com/tutorial"
      ],
      "metadata": {
        "id": "omQIz8LG6p9G"
      }
    },
    {
      "cell_type": "code",
      "source": [],
      "metadata": {
        "id": "F1wGJhu852ZH"
      },
      "execution_count": null,
      "outputs": []
    }
  ]
}