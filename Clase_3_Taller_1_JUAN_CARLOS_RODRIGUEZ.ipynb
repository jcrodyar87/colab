{
  "cells": [
    {
      "cell_type": "markdown",
      "id": "cfcc20fd-12d8-4c3b-bb27-34c03b6a21fa",
      "metadata": {
        "id": "cfcc20fd-12d8-4c3b-bb27-34c03b6a21fa"
      },
      "source": [
        "# Python para la Ciencia de Datos - Taller 3\n",
        "\n",
        "Fecha: **15/05/2024**\n",
        "\n",
        "Autor: **MSc. Ing. CIP Francisco Cerna**\n",
        "\n",
        "Objetivo:\n",
        "\n",
        "Desarrollar los ejercicios prácticos en el lenguaje de programación Python.\n",
        "\n",
        "Documentación oficial:\n",
        "\n",
        "\n",
        "1.   [docs.python.org](https://docs.python.org/3/tutorial/)\n",
        "\n",
        "\n"
      ]
    },
    {
      "cell_type": "code",
      "execution_count": 3,
      "id": "693439df-f568-4268-97ac-0d3b519cca40",
      "metadata": {
        "id": "693439df-f568-4268-97ac-0d3b519cca40",
        "colab": {
          "base_uri": "https://localhost:8080/"
        },
        "outputId": "542d1ecf-a530-4ce9-de45-f100bc760c0c"
      },
      "outputs": [
        {
          "output_type": "stream",
          "name": "stdout",
          "text": [
            "Python 3.10.12\n"
          ]
        }
      ],
      "source": [
        "!python --version"
      ]
    },
    {
      "cell_type": "code",
      "source": [
        "import warnings\n",
        "warnings.simplefilter(\"ignore\")"
      ],
      "metadata": {
        "id": "-5pf-Rr2vvj4"
      },
      "id": "-5pf-Rr2vvj4",
      "execution_count": 4,
      "outputs": []
    },
    {
      "cell_type": "markdown",
      "id": "215e2a08-15be-4fd2-b492-29c9a824c23e",
      "metadata": {
        "id": "215e2a08-15be-4fd2-b492-29c9a824c23e"
      },
      "source": [
        "## Parte 3: Funciones en Python\n",
        "\n",
        "\n"
      ]
    },
    {
      "cell_type": "markdown",
      "id": "6K7WvMNrf6yu",
      "metadata": {
        "id": "6K7WvMNrf6yu"
      },
      "source": [
        "Las funciones en Python utilizan la palabra reservada `def` antes de colocar el nombre de la función.\n",
        "\n",
        "\n",
        "\n",
        "```\n",
        "def nombre_de_la_funcion(nombre_argumento):\n",
        "    # Lógica de la función.\n",
        "```\n",
        "\n",
        "Ejemplo:\n",
        "\n",
        "```\n",
        "def sumar(numero_1, numero_2):\n",
        "    resultado = numero_1 + numero_2\n",
        "    print(resultado)\n",
        "```\n",
        "\n",
        "\n"
      ]
    },
    {
      "cell_type": "markdown",
      "source": [],
      "metadata": {
        "id": "AW5bF9bX90Ve"
      },
      "id": "AW5bF9bX90Ve"
    },
    {
      "cell_type": "code",
      "source": [
        "def mostrar_nombre(nombre=\"\"):\n",
        "  print(nombre.upper())"
      ],
      "metadata": {
        "id": "3C_KA0dr91KE"
      },
      "id": "3C_KA0dr91KE",
      "execution_count": 5,
      "outputs": []
    },
    {
      "cell_type": "code",
      "source": [
        "mostrar_nombre(nombre=\"Hola a todos\")"
      ],
      "metadata": {
        "colab": {
          "base_uri": "https://localhost:8080/"
        },
        "id": "mbNkGFHb-fIO",
        "outputId": "fa44c45f-d4ab-4be7-92a3-2c4641181ae5"
      },
      "id": "mbNkGFHb-fIO",
      "execution_count": 6,
      "outputs": [
        {
          "output_type": "stream",
          "name": "stdout",
          "text": [
            "HOLA A TODOS\n"
          ]
        }
      ]
    },
    {
      "cell_type": "markdown",
      "id": "5acuec_P6lnk",
      "metadata": {
        "id": "5acuec_P6lnk"
      },
      "source": [
        "### Pregunta 1:"
      ]
    },
    {
      "cell_type": "markdown",
      "id": "GtcKs_bP6nKS",
      "metadata": {
        "id": "GtcKs_bP6nKS"
      },
      "source": [
        "Crear una función llamada `saludo`. La función debe de recibir una variable llamada `nombre`. La función debe mostrar el nombre ingresado utilizando la función `print()`."
      ]
    },
    {
      "cell_type": "code",
      "execution_count": 7,
      "id": "giMUkD4K7GU2",
      "metadata": {
        "id": "giMUkD4K7GU2",
        "colab": {
          "base_uri": "https://localhost:8080/"
        },
        "outputId": "15608b05-ea20-4bc7-cfb6-f433d93d00b3"
      },
      "outputs": [
        {
          "output_type": "stream",
          "name": "stdout",
          "text": [
            "Juan Carlos\n"
          ]
        }
      ],
      "source": [
        "def saludo(nombre=\"\"):\n",
        "  print(nombre)\n",
        "\n",
        "saludo(\"Juan Carlos\")"
      ]
    },
    {
      "cell_type": "markdown",
      "id": "dV7gl6lf7Hd3",
      "metadata": {
        "id": "dV7gl6lf7Hd3"
      },
      "source": [
        "### Pregunta 2:"
      ]
    },
    {
      "cell_type": "markdown",
      "id": "J3EL9vFr7Hd_",
      "metadata": {
        "id": "J3EL9vFr7Hd_"
      },
      "source": [
        "Crear una función llamada `saludo`. La función debe de recibir una variable llamada `nombre`. La función debe mostrar el nombre ingresado utilizando la función `print()`. La función debe retornar la palabra `\"Buenos días, \"` concatenado del nombre ingresado."
      ]
    },
    {
      "cell_type": "code",
      "execution_count": 8,
      "id": "jpXC1iM-7gFn",
      "metadata": {
        "id": "jpXC1iM-7gFn",
        "colab": {
          "base_uri": "https://localhost:8080/"
        },
        "outputId": "fd85903c-2804-4b93-d0db-4f92f057ca88"
      },
      "outputs": [
        {
          "output_type": "stream",
          "name": "stdout",
          "text": [
            "Buenos días, Juan Carlos.\n"
          ]
        }
      ],
      "source": [
        "def saludo(nombre=\"\"):\n",
        "  print(f'Buenos días, {nombre}.')\n",
        "\n",
        "saludo(\"Juan Carlos\")"
      ]
    },
    {
      "cell_type": "markdown",
      "id": "r3OlsFWG7hDu",
      "metadata": {
        "id": "r3OlsFWG7hDu"
      },
      "source": [
        "### Pregunta 3:"
      ]
    },
    {
      "cell_type": "markdown",
      "id": "rgnTrO2MeSkA",
      "metadata": {
        "id": "rgnTrO2MeSkA"
      },
      "source": [
        "### Importar librerías"
      ]
    },
    {
      "cell_type": "markdown",
      "id": "XSGVQXyg7ira",
      "metadata": {
        "id": "XSGVQXyg7ira"
      },
      "source": [
        "Utilizaremos la librería NumPy para manipular datos.\n",
        "\n",
        "[Documentación de NumPy](https://numpy.org/doc/stable/user/absolute_beginners.html)."
      ]
    },
    {
      "cell_type": "markdown",
      "id": "RptAJ9sI8ch1",
      "metadata": {
        "id": "RptAJ9sI8ch1"
      },
      "source": [
        "Importar la librería NumPy. Para ello, se debe de ejecutar el siguiente código:\n",
        "\n",
        "El estándar del uso de NumPy es colocarle un alias llamado `np`.\n",
        "\n",
        "```\n",
        "import numpy as np\n",
        "```\n",
        "\n",
        "Una función que ofrece la librería es obtener el promedio o media artimética de una lista.\n",
        "\n",
        "Entonces, debes obtener el promedio de la lista usando la función `mean()`.\n",
        "\n",
        "Toma como referencia la documentación del [enlace](https://numpy.org/doc/stable/reference/generated/numpy.mean.html#numpy.mean).\n"
      ]
    },
    {
      "cell_type": "code",
      "execution_count": 9,
      "id": "GoRACEMJeWbG",
      "metadata": {
        "id": "GoRACEMJeWbG",
        "colab": {
          "base_uri": "https://localhost:8080/"
        },
        "outputId": "3f851be8-7548-4f90-d338-172ee885ad4a"
      },
      "outputs": [
        {
          "output_type": "stream",
          "name": "stdout",
          "text": [
            "34.8\n"
          ]
        }
      ],
      "source": [
        "import numpy as np\n",
        "\n",
        "x = [1, 90, 8, 75, 0]\n",
        "\n",
        "x_mean = np.mean(x) # <---- AQUI DEBES COLOCAR TU SOLUCIÓN\n",
        "print(x_mean)"
      ]
    },
    {
      "cell_type": "markdown",
      "id": "9xsfEd8G9meC",
      "metadata": {
        "id": "9xsfEd8G9meC"
      },
      "source": [
        "### Pregunta 4:"
      ]
    },
    {
      "cell_type": "markdown",
      "id": "ym1xC4Ln9ra0",
      "metadata": {
        "id": "ym1xC4Ln9ra0"
      },
      "source": [
        "A partir de la lista anterior, debes obtener la desviación estándar de la lista.\n",
        "\n",
        "Toma como referencia la documentación del [enlace](https://numpy.org/doc/stable/reference/generated/numpy.std.html#numpy.std)."
      ]
    },
    {
      "cell_type": "code",
      "execution_count": 10,
      "id": "tmhdlsDgejHY",
      "metadata": {
        "id": "tmhdlsDgejHY",
        "colab": {
          "base_uri": "https://localhost:8080/"
        },
        "outputId": "a99c9ae0-a04c-4982-9737-9958f04eb582"
      },
      "outputs": [
        {
          "output_type": "stream",
          "name": "stdout",
          "text": [
            "39.331412382471086\n"
          ]
        }
      ],
      "source": [
        "x_std =  np.std(x) # <---- AQUI DEBES COLOCAR TU SOLUCIÓN\n",
        "print(x_std)"
      ]
    },
    {
      "cell_type": "markdown",
      "id": "f0vibhqZ95rj",
      "metadata": {
        "id": "f0vibhqZ95rj"
      },
      "source": [
        "### Pregunta 5:"
      ]
    },
    {
      "cell_type": "markdown",
      "id": "WoNF3mwS9_Z6",
      "metadata": {
        "id": "WoNF3mwS9_Z6"
      },
      "source": [
        "¿Cuál es la media de la siguiente lista?\n",
        "\n",
        "Utiliza la función `mean()` de NumPy."
      ]
    },
    {
      "cell_type": "code",
      "execution_count": 11,
      "id": "dOuAY_7hes-L",
      "metadata": {
        "id": "dOuAY_7hes-L",
        "colab": {
          "base_uri": "https://localhost:8080/"
        },
        "outputId": "eed9c3d8-46e1-482a-bc36-7ce309117667"
      },
      "outputs": [
        {
          "output_type": "stream",
          "name": "stdout",
          "text": [
            "0.96\n"
          ]
        }
      ],
      "source": [
        "x = [1, 1, 1, 1, 0.8]\n",
        "\n",
        "x_mean =  np.mean(x) # <---- AQUI DEBES COLOCAR TU SOLUCIÓN\n",
        "print(x_mean)"
      ]
    },
    {
      "cell_type": "markdown",
      "id": "zCLynVZF-QKX",
      "metadata": {
        "id": "zCLynVZF-QKX"
      },
      "source": [
        "### Pregunta 6:"
      ]
    },
    {
      "cell_type": "markdown",
      "id": "QB9jZhsw-Rt1",
      "metadata": {
        "id": "QB9jZhsw-Rt1"
      },
      "source": [
        "¿Cuál es la desviación estándar de la lista anterior?"
      ]
    },
    {
      "cell_type": "code",
      "execution_count": 12,
      "id": "TQLkncZres-L",
      "metadata": {
        "id": "TQLkncZres-L",
        "colab": {
          "base_uri": "https://localhost:8080/"
        },
        "outputId": "35cbc41c-32b8-4527-eb53-525ba07b37c8"
      },
      "outputs": [
        {
          "output_type": "stream",
          "name": "stdout",
          "text": [
            "0.07999999999999999\n"
          ]
        }
      ],
      "source": [
        "x_std =  np.std(x) # <---- AQUI DEBES COLOCAR TU SOLUCIÓN\n",
        "print(x_std)"
      ]
    },
    {
      "cell_type": "markdown",
      "id": "7KRABy1f-Xy7",
      "metadata": {
        "id": "7KRABy1f-Xy7"
      },
      "source": [
        "### Pregunta 7:"
      ]
    },
    {
      "cell_type": "markdown",
      "id": "NwR58FVI-ZRH",
      "metadata": {
        "id": "NwR58FVI-ZRH"
      },
      "source": [
        "¿Qué diferencia encuentras entre la media de la pregunta 3 y el resultado de la pregunta 5?\n",
        "\n",
        "¿A qué crees que se deba la diferencia de resultados?"
      ]
    },
    {
      "cell_type": "markdown",
      "source": [
        "**Respuesta:**\n",
        "En que el de la pregunta 5 es un valor menos disgregado porque los valores de la lista son muy cercanos. La diferencia se debe a los valores de cada lista."
      ],
      "metadata": {
        "id": "LBgKkm7XGE1Q"
      },
      "id": "LBgKkm7XGE1Q"
    },
    {
      "cell_type": "markdown",
      "id": "nuNcw-Yh-owa",
      "metadata": {
        "id": "nuNcw-Yh-owa"
      },
      "source": [
        "### Pregunta 8:"
      ]
    },
    {
      "cell_type": "markdown",
      "id": "UKPQMrnL-owb",
      "metadata": {
        "id": "UKPQMrnL-owb"
      },
      "source": [
        "¿Qué diferencia encuentras entre la desviación estándar de la pregunta 4 y el resultado de la pregunta 6?\n",
        "\n",
        "¿A qué crees que se deba la diferencia de resultados?"
      ]
    },
    {
      "cell_type": "markdown",
      "source": [
        "**Respuesta:**\n",
        "El valor es demasiado lejano y se debe a que los valores están muy disgregados."
      ],
      "metadata": {
        "id": "a4gVlvgHGQue"
      },
      "id": "a4gVlvgHGQue"
    },
    {
      "cell_type": "markdown",
      "id": "9O0OJ6jr-uhE",
      "metadata": {
        "id": "9O0OJ6jr-uhE"
      },
      "source": [
        "### Pregunta 9:"
      ]
    },
    {
      "cell_type": "markdown",
      "id": "17q8niOY-wU-",
      "metadata": {
        "id": "17q8niOY-wU-"
      },
      "source": [
        "Crea una función que recibe como argumento una lista. La lista debe tener al menos 1 elemento. Si la lista no tiene elementos, entonces mostrar el mensaje `\"La lista no tiene elementos\"` y utilizar la función `print()`.\n",
        "\n",
        "Por el contrario, si la lista tiene al menos un elemento, entonces obtener el promedio y la desviación estándar.\n",
        "\n",
        "La función debe retornar el promedio y la desviación estándar."
      ]
    },
    {
      "cell_type": "code",
      "execution_count": 13,
      "id": "KMSAKbsS_MZT",
      "metadata": {
        "id": "KMSAKbsS_MZT",
        "colab": {
          "base_uri": "https://localhost:8080/"
        },
        "outputId": "ed7803da-772e-4fb2-805a-0f2e9b56db0c"
      },
      "outputs": [
        {
          "output_type": "execute_result",
          "data": {
            "text/plain": [
              "(0.96, 0.07999999999999999)"
            ]
          },
          "metadata": {},
          "execution_count": 13
        }
      ],
      "source": [
        "def mostrar_lista(lista: list):\n",
        "  if not lista:\n",
        "    print(\"La lista no tiene elementos\")\n",
        "  if len(lista) >= 1:\n",
        "    promedio = np.mean(lista)\n",
        "    desviacion = np.std(lista)\n",
        "    return promedio, desviacion\n",
        "\n",
        "mostrar_lista(lista=[1, 1, 1, 1, 0.8])\n",
        "#mostrar_lista(lista=[])"
      ]
    },
    {
      "cell_type": "markdown",
      "id": "91iH2MhL_M5j",
      "metadata": {
        "id": "91iH2MhL_M5j"
      },
      "source": [
        "### Pregunta 10:"
      ]
    },
    {
      "cell_type": "markdown",
      "id": "FFcUG6aQ_OJV",
      "metadata": {
        "id": "FFcUG6aQ_OJV"
      },
      "source": [
        "Crea una función que retorne los dos últimos elementos de una lista.\n",
        "\n",
        "🚨 La función debe validar que la lista es diferente a `None`.\n",
        "\n",
        "🚨 La función debe validar que la lista debe tener al menos dos elementos."
      ]
    },
    {
      "cell_type": "code",
      "execution_count": 14,
      "id": "cWh0bbda_Ogt",
      "metadata": {
        "id": "cWh0bbda_Ogt",
        "colab": {
          "base_uri": "https://localhost:8080/"
        },
        "outputId": "b5b85d78-ba2b-4eed-ceda-bf6c39696e2d"
      },
      "outputs": [
        {
          "output_type": "execute_result",
          "data": {
            "text/plain": [
              "[1, 1, 1, 1, 0.8]"
            ]
          },
          "metadata": {},
          "execution_count": 14
        }
      ],
      "source": [
        "x"
      ]
    },
    {
      "cell_type": "code",
      "source": [
        "def mostrar_dos_ultimos(lista: list):\n",
        "  if lista != None:\n",
        "    if len(lista) < 2:\n",
        "      print(\"La lista debe tener al menos dos elementos\")\n",
        "    else:\n",
        "      print(lista[-2:])\n",
        "\n",
        "#mostrar_dos_ultimos(None)\n",
        "mostrar_dos_ultimos([1])\n",
        "mostrar_dos_ultimos(x)"
      ],
      "metadata": {
        "colab": {
          "base_uri": "https://localhost:8080/"
        },
        "id": "Vsf_OHxQJ7it",
        "outputId": "ea4c6b68-c548-4591-de49-8c42b8c9b73f"
      },
      "id": "Vsf_OHxQJ7it",
      "execution_count": 17,
      "outputs": [
        {
          "output_type": "stream",
          "name": "stdout",
          "text": [
            "La lista debe tener al menos dos elementos\n",
            "[1, 0.8]\n"
          ]
        }
      ]
    },
    {
      "cell_type": "markdown",
      "source": [
        "### Tipo de dato del arreglo"
      ],
      "metadata": {
        "id": "QgTuqbRxtWFg"
      },
      "id": "QgTuqbRxtWFg"
    },
    {
      "cell_type": "markdown",
      "source": [
        "En NumPy se pueden crear arreglos. Los arreglos no son listas.\n",
        "\n",
        "Las ventajas de los arreglos son:\n",
        "\n",
        "1.   Almacena elementos del mismo tipo de dato, lo que permite un uso más optimizado de la memoria en comparación con las listas de Python que pueden contener elementos de distintos tipos.\n",
        "2.   Permite operaciones vectoriales sobre todos los elementos del arreglo a la vez. El tiempo de procesamiento es mucho más rápido en comparación con los ciclos tradicionales de Python para iterar sobre listas.\n",
        "3.   Los arreglos pueden tener múltiples dimensiones, representando estructuras como matrices.\n",
        "\n",
        "Ejemplo:\n",
        "\n",
        "\n",
        "\n",
        "```\n",
        "# Vector o Tensor de rango 1\n",
        "a1D = np.array([1, 2, 3, 4])\n",
        "\n",
        "# Matriz o Tensor de rango 2\n",
        "a2D = np.array([[1, 2], [3, 4]])\n",
        "\n",
        "# Tensor de rango 3\n",
        "a3D = np.array([[[1, 2], [3, 4]], [[5, 6], [7, 8]]])\n",
        "```\n",
        "\n"
      ],
      "metadata": {
        "id": "ll6OjBTqjpqu"
      },
      "id": "ll6OjBTqjpqu"
    },
    {
      "cell_type": "code",
      "source": [
        "# Vector o Tensor de rango 1\n",
        "a1D = np.array([1, 2, 3, 4])\n",
        "\n",
        "# Matriz o Tensor de rango 2\n",
        "a2D = np.array([[1, 2], [3, 4]])\n",
        "\n",
        "# Tensor de rango 3\n",
        "a3D = np.array([[[1, 2], [3, 4]], [[5, 6], [7, 8]]])"
      ],
      "metadata": {
        "id": "iCyui4UBs0sw"
      },
      "id": "iCyui4UBs0sw",
      "execution_count": 18,
      "outputs": []
    },
    {
      "cell_type": "markdown",
      "source": [
        "Ejecutar las siguientes celdas de código y visualizar el tipo de datos que aparece."
      ],
      "metadata": {
        "id": "_6kNF5Lrtnhy"
      },
      "id": "_6kNF5Lrtnhy"
    },
    {
      "cell_type": "code",
      "source": [
        "a1D.dtype"
      ],
      "metadata": {
        "id": "m06n5UYJj0nn",
        "colab": {
          "base_uri": "https://localhost:8080/"
        },
        "outputId": "d3db05bf-ff2d-4884-cb00-c7f146f37bf2"
      },
      "id": "m06n5UYJj0nn",
      "execution_count": 19,
      "outputs": [
        {
          "output_type": "execute_result",
          "data": {
            "text/plain": [
              "dtype('int64')"
            ]
          },
          "metadata": {},
          "execution_count": 19
        }
      ]
    },
    {
      "cell_type": "code",
      "source": [
        "a2D.dtype"
      ],
      "metadata": {
        "id": "YrI9l286uC0d",
        "colab": {
          "base_uri": "https://localhost:8080/"
        },
        "outputId": "eda10870-a812-43ca-c6e3-1f35a46ed55c"
      },
      "id": "YrI9l286uC0d",
      "execution_count": 20,
      "outputs": [
        {
          "output_type": "execute_result",
          "data": {
            "text/plain": [
              "dtype('int64')"
            ]
          },
          "metadata": {},
          "execution_count": 20
        }
      ]
    },
    {
      "cell_type": "code",
      "source": [
        "a3D.dtype"
      ],
      "metadata": {
        "id": "XBXOzYb8uEg4",
        "colab": {
          "base_uri": "https://localhost:8080/"
        },
        "outputId": "d93c9fa9-a836-4605-949e-24c89c695bd7"
      },
      "id": "XBXOzYb8uEg4",
      "execution_count": 21,
      "outputs": [
        {
          "output_type": "execute_result",
          "data": {
            "text/plain": [
              "dtype('int64')"
            ]
          },
          "metadata": {},
          "execution_count": 21
        }
      ]
    },
    {
      "cell_type": "markdown",
      "source": [
        "### Pregunta 11:"
      ],
      "metadata": {
        "id": "xUpXxQ2pjoC0"
      },
      "id": "xUpXxQ2pjoC0"
    },
    {
      "cell_type": "markdown",
      "source": [
        "Crear un arreglo con el tipo de dato `np.int8`. Este valor se asigna al argumento `dtype`.\n",
        "\n",
        "\n",
        "Ejemplo para crear un arreglo con `dtype`.\n",
        "\n",
        "```\n",
        "arreglo = np.array([127, 128, 129], dtype=np.uint32)\n",
        "arreglo\n",
        "```\n",
        "\n",
        "\n",
        "\n",
        "¿El resultado es el mismo que el que declaraste previamente?"
      ],
      "metadata": {
        "id": "xkHWzVC0uInp"
      },
      "id": "xkHWzVC0uInp"
    },
    {
      "cell_type": "code",
      "source": [
        "a = np.array([127, 128, 129], dtype=np.int8)\n",
        "a"
      ],
      "metadata": {
        "id": "QaYVTpSKj-yi",
        "colab": {
          "base_uri": "https://localhost:8080/"
        },
        "outputId": "4e5a4fc3-5743-4789-d839-b29b3090cd93"
      },
      "id": "QaYVTpSKj-yi",
      "execution_count": 22,
      "outputs": [
        {
          "output_type": "execute_result",
          "data": {
            "text/plain": [
              "array([ 127, -128, -127], dtype=int8)"
            ]
          },
          "metadata": {},
          "execution_count": 22
        }
      ]
    },
    {
      "cell_type": "markdown",
      "source": [
        "### Pregunta 12:"
      ],
      "metadata": {
        "id": "o4p96smMu_td"
      },
      "id": "o4p96smMu_td"
    },
    {
      "cell_type": "markdown",
      "source": [
        "Crear un arreglo con `dtype` igual a `np.uint32`.\n",
        "\n",
        "¿Cambiaron los valores del arreglo?"
      ],
      "metadata": {
        "id": "WiclQIPbvBI3"
      },
      "id": "WiclQIPbvBI3"
    },
    {
      "cell_type": "code",
      "source": [
        "a = np.array([127, 128, 129], dtype=np.uint32)\n",
        "a"
      ],
      "metadata": {
        "id": "F4Pbdlebj4Of",
        "colab": {
          "base_uri": "https://localhost:8080/"
        },
        "outputId": "f19fc3a4-e4de-47db-fd73-e5a666b05fea"
      },
      "id": "F4Pbdlebj4Of",
      "execution_count": 23,
      "outputs": [
        {
          "output_type": "execute_result",
          "data": {
            "text/plain": [
              "array([127, 128, 129], dtype=uint32)"
            ]
          },
          "metadata": {},
          "execution_count": 23
        }
      ]
    },
    {
      "cell_type": "markdown",
      "source": [
        "No cambian sus valores"
      ],
      "metadata": {
        "id": "_Lae4w_PMqhu"
      },
      "id": "_Lae4w_PMqhu"
    },
    {
      "cell_type": "markdown",
      "source": [
        "### Pregunta 13:"
      ],
      "metadata": {
        "id": "T0Ta_P3jv_k-"
      },
      "id": "T0Ta_P3jv_k-"
    },
    {
      "cell_type": "markdown",
      "source": [
        "Ejecutar la siguiente línea de código.\n",
        "\n",
        "¿Qué aprecias en la matriz que creaste? ¿Qué valores aparecen en la matriz?"
      ],
      "metadata": {
        "id": "3uq6b4xWwBO4"
      },
      "id": "3uq6b4xWwBO4"
    },
    {
      "cell_type": "code",
      "source": [
        "np.eye(3) # Matriz de identidad"
      ],
      "metadata": {
        "id": "hLrNIrHhwGdN",
        "colab": {
          "base_uri": "https://localhost:8080/"
        },
        "outputId": "688262fd-7b64-42d9-ea8f-d50657454e8e"
      },
      "id": "hLrNIrHhwGdN",
      "execution_count": 24,
      "outputs": [
        {
          "output_type": "execute_result",
          "data": {
            "text/plain": [
              "array([[1., 0., 0.],\n",
              "       [0., 1., 0.],\n",
              "       [0., 0., 1.]])"
            ]
          },
          "metadata": {},
          "execution_count": 24
        }
      ]
    },
    {
      "cell_type": "code",
      "source": [
        "# Coloca acá tu respuesta\n",
        "# La matriz de identidad encontrada solo tiene valores 1 en su diagonal.\n",
        "\n"
      ],
      "metadata": {
        "id": "EFObgKqQwgoe"
      },
      "id": "EFObgKqQwgoe",
      "execution_count": 25,
      "outputs": []
    },
    {
      "cell_type": "markdown",
      "source": [
        "### Pregunta 14:"
      ],
      "metadata": {
        "id": "susIV__Kwj8-"
      },
      "id": "susIV__Kwj8-"
    },
    {
      "cell_type": "markdown",
      "source": [
        "La siguiente celda de código crea un arreglo con diferentes tipos de datos.\n",
        "\n",
        "Además, asignamos el tipo de dato para cada dimensión del arreglo."
      ],
      "metadata": {
        "id": "B-lncNDv0sCv"
      },
      "id": "B-lncNDv0sCv"
    },
    {
      "cell_type": "code",
      "source": [
        "x = np.array([('Regresión lineal', 1, 0.9051), ('KNN', 2, 0.9101)],\n",
        "             dtype=[('name', 'U10'), ('age', np.int8), ('weight', np.float32)])"
      ],
      "metadata": {
        "id": "l5tG6zAQxAI8"
      },
      "id": "l5tG6zAQxAI8",
      "execution_count": 26,
      "outputs": []
    },
    {
      "cell_type": "markdown",
      "source": [
        "Ejecuta las siguientes celdas de código.\n",
        "\n",
        "¿Qué logras apreciar?"
      ],
      "metadata": {
        "id": "2WExevdx0l-G"
      },
      "id": "2WExevdx0l-G"
    },
    {
      "cell_type": "code",
      "source": [
        "x['name']"
      ],
      "metadata": {
        "id": "v_OEKIdSxLr4",
        "colab": {
          "base_uri": "https://localhost:8080/"
        },
        "outputId": "7dc5b142-d7d8-48d2-a4a2-8c85cacf5824"
      },
      "id": "v_OEKIdSxLr4",
      "execution_count": 27,
      "outputs": [
        {
          "output_type": "execute_result",
          "data": {
            "text/plain": [
              "array(['Regresión ', 'KNN'], dtype='<U10')"
            ]
          },
          "metadata": {},
          "execution_count": 27
        }
      ]
    },
    {
      "cell_type": "code",
      "source": [
        "x['age']"
      ],
      "metadata": {
        "id": "TConGZ9rznlq",
        "colab": {
          "base_uri": "https://localhost:8080/"
        },
        "outputId": "2cf59ff3-535d-4c8d-b251-2fc3610064f5"
      },
      "id": "TConGZ9rznlq",
      "execution_count": 28,
      "outputs": [
        {
          "output_type": "execute_result",
          "data": {
            "text/plain": [
              "array([1, 2], dtype=int8)"
            ]
          },
          "metadata": {},
          "execution_count": 28
        }
      ]
    },
    {
      "cell_type": "code",
      "source": [
        "x['weight']"
      ],
      "metadata": {
        "id": "DFbITiFizo-L",
        "colab": {
          "base_uri": "https://localhost:8080/"
        },
        "outputId": "df58516d-b553-45cc-c308-57cd3ae0e5a8"
      },
      "id": "DFbITiFizo-L",
      "execution_count": 29,
      "outputs": [
        {
          "output_type": "execute_result",
          "data": {
            "text/plain": [
              "array([0.9051, 0.9101], dtype=float32)"
            ]
          },
          "metadata": {},
          "execution_count": 29
        }
      ]
    },
    {
      "cell_type": "code",
      "source": [
        "x.dtype"
      ],
      "metadata": {
        "id": "CAcAk8RM0dgb",
        "colab": {
          "base_uri": "https://localhost:8080/"
        },
        "outputId": "4c570871-10e1-40f8-cc32-ac946b89ad66"
      },
      "id": "CAcAk8RM0dgb",
      "execution_count": 30,
      "outputs": [
        {
          "output_type": "execute_result",
          "data": {
            "text/plain": [
              "dtype([('name', '<U10'), ('age', 'i1'), ('weight', '<f4')])"
            ]
          },
          "metadata": {},
          "execution_count": 30
        }
      ]
    },
    {
      "cell_type": "code",
      "source": [
        "np.dtype(x.dtype)"
      ],
      "metadata": {
        "id": "Vx9fPk3o0L0I",
        "colab": {
          "base_uri": "https://localhost:8080/"
        },
        "outputId": "7e8e6a32-4511-469e-dd70-6290a8e551df"
      },
      "id": "Vx9fPk3o0L0I",
      "execution_count": 31,
      "outputs": [
        {
          "output_type": "execute_result",
          "data": {
            "text/plain": [
              "dtype([('name', '<U10'), ('age', 'i1'), ('weight', '<f4')])"
            ]
          },
          "metadata": {},
          "execution_count": 31
        }
      ]
    },
    {
      "cell_type": "code",
      "source": [
        "# Coloca acá tu respuesta\n",
        "\n",
        "# Se puede consultar las columnas y obtener sus valores. Los tipos de datos van desde el <U10 para el string, i1 para el entero y el <f4 para un flotante."
      ],
      "metadata": {
        "id": "A66l896o1WW9"
      },
      "id": "A66l896o1WW9",
      "execution_count": 32,
      "outputs": []
    }
  ],
  "metadata": {
    "colab": {
      "provenance": [],
      "toc_visible": true
    },
    "kernelspec": {
      "display_name": "Python 3 (ipykernel)",
      "language": "python",
      "name": "python3"
    },
    "language_info": {
      "codemirror_mode": {
        "name": "ipython",
        "version": 3
      },
      "file_extension": ".py",
      "mimetype": "text/x-python",
      "name": "python",
      "nbconvert_exporter": "python",
      "pygments_lexer": "ipython3",
      "version": "3.11.7"
    }
  },
  "nbformat": 4,
  "nbformat_minor": 5
}