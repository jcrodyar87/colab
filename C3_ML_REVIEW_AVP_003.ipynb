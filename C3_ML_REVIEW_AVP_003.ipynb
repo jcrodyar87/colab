{
 "cells": [
  {
   "cell_type": "markdown",
   "id": "a795e3da",
   "metadata": {},
   "source": [
    "## **REPASO DE ML 15/07/2023**\n",
    "\n",
    "* Developer: Alexander O. Valdez Portocarrero\n",
    "* Ing. Electronico UNI"
   ]
  },
  {
   "cell_type": "markdown",
   "id": "1293be93",
   "metadata": {},
   "source": [
    "## **EXTRACCION DE DATOS DE WIKIPEDIA**"
   ]
  },
  {
   "cell_type": "markdown",
   "id": "b5e66fa7",
   "metadata": {},
   "source": [
    "* Libreria Selenium"
   ]
  },
  {
   "cell_type": "code",
   "execution_count": 1,
   "id": "cb87bd32",
   "metadata": {},
   "outputs": [
    {
     "name": "stdout",
     "output_type": "stream",
     "text": [
      "Requirement already satisfied: selenium in c:\\users\\soporte\\anaconda3\\lib\\site-packages (4.10.0)\n",
      "Requirement already satisfied: urllib3[socks]<3,>=1.26 in c:\\users\\soporte\\anaconda3\\lib\\site-packages (from selenium) (1.26.16)\n",
      "Requirement already satisfied: trio~=0.17 in c:\\users\\soporte\\anaconda3\\lib\\site-packages (from selenium) (0.22.2)\n",
      "Requirement already satisfied: trio-websocket~=0.9 in c:\\users\\soporte\\anaconda3\\lib\\site-packages (from selenium) (0.10.3)\n",
      "Requirement already satisfied: certifi>=2021.10.8 in c:\\users\\soporte\\anaconda3\\lib\\site-packages (from selenium) (2023.5.7)\n",
      "Requirement already satisfied: attrs>=20.1.0 in c:\\users\\soporte\\anaconda3\\lib\\site-packages (from trio~=0.17->selenium) (22.1.0)\n",
      "Requirement already satisfied: sortedcontainers in c:\\users\\soporte\\anaconda3\\lib\\site-packages (from trio~=0.17->selenium) (2.4.0)\n",
      "Requirement already satisfied: idna in c:\\users\\soporte\\anaconda3\\lib\\site-packages (from trio~=0.17->selenium) (3.4)\n",
      "Requirement already satisfied: outcome in c:\\users\\soporte\\anaconda3\\lib\\site-packages (from trio~=0.17->selenium) (1.2.0)\n",
      "Requirement already satisfied: sniffio in c:\\users\\soporte\\anaconda3\\lib\\site-packages (from trio~=0.17->selenium) (1.2.0)\n",
      "Requirement already satisfied: cffi>=1.14 in c:\\users\\soporte\\anaconda3\\lib\\site-packages (from trio~=0.17->selenium) (1.15.1)\n",
      "Requirement already satisfied: exceptiongroup in c:\\users\\soporte\\anaconda3\\lib\\site-packages (from trio-websocket~=0.9->selenium) (1.1.2)\n",
      "Requirement already satisfied: wsproto>=0.14 in c:\\users\\soporte\\anaconda3\\lib\\site-packages (from trio-websocket~=0.9->selenium) (1.2.0)\n",
      "Requirement already satisfied: PySocks!=1.5.7,<2.0,>=1.5.6 in c:\\users\\soporte\\anaconda3\\lib\\site-packages (from urllib3[socks]<3,>=1.26->selenium) (1.7.1)\n",
      "Requirement already satisfied: pycparser in c:\\users\\soporte\\anaconda3\\lib\\site-packages (from cffi>=1.14->trio~=0.17->selenium) (2.21)\n",
      "Requirement already satisfied: h11<1,>=0.9.0 in c:\\users\\soporte\\anaconda3\\lib\\site-packages (from wsproto>=0.14->trio-websocket~=0.9->selenium) (0.14.0)\n",
      "Note: you may need to restart the kernel to use updated packages.\n"
     ]
    }
   ],
   "source": [
    "pip install selenium"
   ]
  },
  {
   "cell_type": "code",
   "execution_count": 2,
   "id": "ad093de2",
   "metadata": {},
   "outputs": [
    {
     "name": "stdout",
     "output_type": "stream",
     "text": [
      "Requirement already satisfied: webdriver-manager in c:\\users\\soporte\\anaconda3\\lib\\site-packages (3.8.6)\n",
      "Requirement already satisfied: requests in c:\\users\\soporte\\anaconda3\\lib\\site-packages (from webdriver-manager) (2.29.0)\n",
      "Requirement already satisfied: python-dotenv in c:\\users\\soporte\\anaconda3\\lib\\site-packages (from webdriver-manager) (1.0.0)\n",
      "Requirement already satisfied: tqdm in c:\\users\\soporte\\anaconda3\\lib\\site-packages (from webdriver-manager) (4.65.0)\n",
      "Requirement already satisfied: packaging in c:\\users\\soporte\\anaconda3\\lib\\site-packages (from webdriver-manager) (23.0)\n",
      "Requirement already satisfied: charset-normalizer<4,>=2 in c:\\users\\soporte\\anaconda3\\lib\\site-packages (from requests->webdriver-manager) (2.0.4)\n",
      "Requirement already satisfied: idna<4,>=2.5 in c:\\users\\soporte\\anaconda3\\lib\\site-packages (from requests->webdriver-manager) (3.4)\n",
      "Requirement already satisfied: urllib3<1.27,>=1.21.1 in c:\\users\\soporte\\anaconda3\\lib\\site-packages (from requests->webdriver-manager) (1.26.16)\n",
      "Requirement already satisfied: certifi>=2017.4.17 in c:\\users\\soporte\\anaconda3\\lib\\site-packages (from requests->webdriver-manager) (2023.5.7)\n",
      "Requirement already satisfied: colorama in c:\\users\\soporte\\anaconda3\\lib\\site-packages (from tqdm->webdriver-manager) (0.4.6)\n",
      "Note: you may need to restart the kernel to use updated packages.\n"
     ]
    }
   ],
   "source": [
    "pip install webdriver-manager"
   ]
  },
  {
   "cell_type": "code",
   "execution_count": 15,
   "id": "a37e2b6f",
   "metadata": {},
   "outputs": [],
   "source": [
    "import selenium\n",
    "import pandas as pd\n",
    "import time"
   ]
  },
  {
   "cell_type": "code",
   "execution_count": 16,
   "id": "e5d85dbf",
   "metadata": {},
   "outputs": [
    {
     "name": "stdout",
     "output_type": "stream",
     "text": [
      "1982 FIFA World Cup - Wikipedia\n"
     ]
    }
   ],
   "source": [
    "from selenium.webdriver import Chrome\n",
    "from selenium.webdriver.chrome.service import Service\n",
    "from selenium import webdriver\n",
    "from selenium.webdriver.support.ui  import Select\n",
    "from selenium.webdriver.chrome.options import Options\n",
    "from selenium.webdriver.common.by import By\n",
    "from selenium.webdriver.common.action_chains import ActionChains\n",
    "from selenium.webdriver.support.ui import WebDriverWait\n",
    "from selenium.webdriver.support import expected_conditions as EC\n",
    "\n",
    "driver_options = Options()\n",
    "driver_options.set_capability(\"goog:loggingPrefs\", {'performance': 'ALL'})\n",
    "driver_options.add_argument('--headless')\n",
    "driver_options.add_argument('--no-sandbox')\n",
    "service = Service(executable_path=\"C:/Users/soporte/Downloads/chromedriver_win32_114/chromedriver.exe\")\n",
    "driver = webdriver.Chrome(service=service)\n",
    "\n",
    "driver.get(\"https://en.wikipedia.org/wiki/1982_FIFA_World_Cup\")\n",
    "# Getting current URL source code\n",
    "get_title = driver.title\n",
    "\n",
    "# Printing the title of this URL\n",
    "print(get_title)\n",
    "'''\n",
    "homes = driver.find_elements(by='xpath',value='//tr[@itemprop=\"name\"]/../tr[1]/th[1]/span/a')\n",
    "scores = driver.find_elements(by='xpath',value='//tr[@itemprop=\"name\"]/../tr[1]/th[2]')\n",
    "aways = driver.find_elements(by='xpath',value='//tr[@itemprop=\"name\"]/../tr[1]/th[3]/span/span/a')\n",
    "\n",
    "\n",
    "for home,score,away in zip(homes,scores,aways):\n",
    "    print(home.text,score.text,away.text)\n",
    "'''\n",
    "'''\n",
    "for score in scores:\n",
    "    print(score.text)\n",
    "'''\n",
    "'''\n",
    "for away in aways:\n",
    "    print(away.text)\n",
    "'''\n",
    "home  = []\n",
    "score = []\n",
    "away  = []\n",
    "matches = driver.find_elements(by='xpath',value='//tr[@itemprop=\"name\"]/../tr[1]')\n",
    "for match in matches:\n",
    "    home.append(match.find_element(by='xpath',value='./th[1]/span/a').text)\n",
    "    score.append(match.find_element(by='xpath',value='./th[2]').text)\n",
    "    away.append(match.find_element(by='xpath',value='./th[3]/span/span/a').text)\n",
    "\n",
    "dict_football = {'home':home,'score':score,'away':away}\n",
    "df_football = pd.DataFrame(dict_football)\n",
    "df_football['year']=1982\n",
    "time.sleep(2)\n",
    "df_football.to_csv('test_1982.csv')\n",
    "driver.quit()"
   ]
  },
  {
   "cell_type": "code",
   "execution_count": 7,
   "id": "bdd5cff1",
   "metadata": {},
   "outputs": [
    {
     "name": "stdout",
     "output_type": "stream",
     "text": [
      "1930\n",
      "https://en.wikipedia.org/wiki/1930_FIFA_World_Cup\n",
      "1934\n",
      "https://en.wikipedia.org/wiki/1934_FIFA_World_Cup\n",
      "1938\n",
      "https://en.wikipedia.org/wiki/1938_FIFA_World_Cup\n",
      "1950\n",
      "https://en.wikipedia.org/wiki/1950_FIFA_World_Cup\n",
      "1954\n",
      "https://en.wikipedia.org/wiki/1954_FIFA_World_Cup\n",
      "1958\n",
      "https://en.wikipedia.org/wiki/1958_FIFA_World_Cup\n",
      "1962\n",
      "https://en.wikipedia.org/wiki/1962_FIFA_World_Cup\n",
      "1966\n",
      "https://en.wikipedia.org/wiki/1966_FIFA_World_Cup\n",
      "1970\n",
      "https://en.wikipedia.org/wiki/1970_FIFA_World_Cup\n",
      "1974\n",
      "https://en.wikipedia.org/wiki/1974_FIFA_World_Cup\n",
      "1978\n",
      "https://en.wikipedia.org/wiki/1978_FIFA_World_Cup\n",
      "1982\n",
      "https://en.wikipedia.org/wiki/1982_FIFA_World_Cup\n",
      "1986\n",
      "https://en.wikipedia.org/wiki/1986_FIFA_World_Cup\n",
      "1990\n",
      "https://en.wikipedia.org/wiki/1990_FIFA_World_Cup\n",
      "1994\n",
      "https://en.wikipedia.org/wiki/1994_FIFA_World_Cup\n",
      "2002\n",
      "https://en.wikipedia.org/wiki/2002_FIFA_World_Cup\n",
      "2006\n",
      "https://en.wikipedia.org/wiki/2006_FIFA_World_Cup\n",
      "2010\n",
      "https://en.wikipedia.org/wiki/2010_FIFA_World_Cup\n",
      "2014\n",
      "https://en.wikipedia.org/wiki/2014_FIFA_World_Cup\n",
      "2018\n",
      "https://en.wikipedia.org/wiki/2018_FIFA_World_Cup\n",
      "DONE\n"
     ]
    }
   ],
   "source": [
    "import selenium\n",
    "import pandas as pd\n",
    "import time\n",
    "\n",
    "from selenium.webdriver import Chrome\n",
    "from selenium.webdriver.chrome.service import Service\n",
    "from selenium import webdriver\n",
    "from selenium.webdriver.support.ui  import Select\n",
    "from selenium.webdriver.chrome.options import Options\n",
    "from selenium.webdriver.common.by import By\n",
    "from selenium.webdriver.common.action_chains import ActionChains\n",
    "from selenium.webdriver.support.ui import WebDriverWait\n",
    "from selenium.webdriver.support import expected_conditions as EC\n",
    "driver_options = Options()\n",
    "driver_options.set_capability(\"goog:loggingPrefs\", {'performance': 'ALL'})\n",
    "driver_options.add_argument('--no-sandbox')\n",
    "driver_options.add_argument('--headless')\n",
    "driver_options.add_argument('--disable-dev-shm-usage')\n",
    "# aqui era todo CON EL SERVICE\n",
    "try:\n",
    "    service = Service(executable_path='/usr/local/bin/chromedriver') \n",
    "    driver  = webdriver.Chrome(service=service,options=driver_options)#service=service,options=driver_options)\n",
    "\n",
    "except:\n",
    "    print(\"NOT DRIVER\")\n",
    "\n",
    "def obtener_datos(year):\n",
    "    print(year)\n",
    "    web=f'https://en.wikipedia.org/wiki/{year}_FIFA_World_Cup'\n",
    "    print(web)\n",
    "    driver.get(web)\n",
    "    matches = driver.find_elements(by='xpath',value='//tr[@itemprop=\"name\"]/../tr[1]')\n",
    "    home   = []\n",
    "    score  = []\n",
    "    away   = []\n",
    "    for match in matches:\n",
    "        home.append(match.find_element(by='xpath',value='./th[1]/span/a').text)\n",
    "        score.append(match.find_element(by='xpath',value='./th[2]').text)\n",
    "        away.append(match.find_element(by='xpath',value='./th[3]/span/span/a | ./th[3]/span/a').text)\n",
    "    dict_football = {'home':home, 'score':score,'away':away}\n",
    "    df_football  = pd.DataFrame(dict_football)\n",
    "    df_football['year'] = year\n",
    "    #print(df_football)\n",
    "    time.sleep(1)\n",
    "    return df_football\n",
    "\n",
    "\n",
    "#years = [i for i in range(1918,2020,4)]\n",
    "years = [1930,1934,1938,1950,1954,1958,1962,1966,1970,1974,1978,1982,1986,1990,1994,2002,2006,2010,2014,2018]\n",
    "#APLICO MI LISTA DE COMPRESION\n",
    "fifa = [obtener_datos(year) for year in years]\n",
    "driver.quit()\n",
    "df_fifa = pd.concat(fifa,ignore_index =True)\n",
    "df_fifa.to_csv('fifa_worldcup_missing_data.csv',index=False)\n",
    "print(\"DONE\")"
   ]
  },
  {
   "cell_type": "code",
   "execution_count": null,
   "id": "a43bab5a",
   "metadata": {},
   "outputs": [],
   "source": []
  }
 ],
 "metadata": {
  "kernelspec": {
   "display_name": "Python 3 (ipykernel)",
   "language": "python",
   "name": "python3"
  },
  "language_info": {
   "codemirror_mode": {
    "name": "ipython",
    "version": 3
   },
   "file_extension": ".py",
   "mimetype": "text/x-python",
   "name": "python",
   "nbconvert_exporter": "python",
   "pygments_lexer": "ipython3",
   "version": "3.11.3"
  }
 },
 "nbformat": 4,
 "nbformat_minor": 5
}
