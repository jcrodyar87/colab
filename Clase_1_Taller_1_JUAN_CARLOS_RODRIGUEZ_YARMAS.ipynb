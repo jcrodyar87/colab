{
  "cells": [
    {
      "cell_type": "markdown",
      "id": "cfcc20fd-12d8-4c3b-bb27-34c03b6a21fa",
      "metadata": {
        "id": "cfcc20fd-12d8-4c3b-bb27-34c03b6a21fa"
      },
      "source": [
        "# Python para la Ciencia de Datos - Clase 1\n",
        "\n",
        "Fecha: **08/05/2024**\n",
        "\n",
        "Autor: **Ing. CIP Francisco Cerna**\n",
        "\n",
        "Objetivo:\n",
        "\n",
        "Desarrollar los ejercicios prácticos en el lenguaje de programación Python.\n",
        "\n",
        "Documentación oficial:\n",
        "\n",
        "\n",
        "1.   [docs.python.org](https://docs.python.org/3/tutorial/)\n",
        "\n",
        "\n"
      ]
    },
    {
      "cell_type": "code",
      "execution_count": 1,
      "id": "693439df-f568-4268-97ac-0d3b519cca40",
      "metadata": {
        "id": "693439df-f568-4268-97ac-0d3b519cca40",
        "colab": {
          "base_uri": "https://localhost:8080/"
        },
        "outputId": "cbcdf907-3664-4381-d5e9-d0710fb2c3c3"
      },
      "outputs": [
        {
          "output_type": "stream",
          "name": "stdout",
          "text": [
            "Python 3.10.12\n"
          ]
        }
      ],
      "source": [
        "!python --version"
      ]
    },
    {
      "cell_type": "markdown",
      "id": "6e6f7650-3d4b-442b-ab8c-8e9e31712706",
      "metadata": {
        "id": "6e6f7650-3d4b-442b-ab8c-8e9e31712706"
      },
      "source": [
        "## Parte 1: Tipos de datos"
      ]
    },
    {
      "cell_type": "markdown",
      "id": "ecf1d870-6c18-4135-aaa7-5aae6e721973",
      "metadata": {
        "id": "ecf1d870-6c18-4135-aaa7-5aae6e721973"
      },
      "source": [
        "\n",
        "\n",
        "1.   **Entero (int):** Los enteros representan números enteros positivos, negativos o cero. Permite almacenar cantidades discretas, como edad, cantidad de objetos o personas, etc.\n",
        "\n",
        "1.   **Float (float):** Representan números decimales, tanto positivos como negativos. Permite almacenar valores numéricos con precisión decimal, como precios, medidas, promedios, alturas, etc.\n",
        "\n",
        "1.   **Cadenas de texto (string):** Representan secuencias de caracteres encerrados entre comillas simples o dobles. Se declaran entre comillas simples (') o dobles (\"). Permite almacenar texto, nombres, descripciones, mensajes de error, etc.\n",
        "\n",
        "1.   **Booleanos (bool):** Representan valores lógicos de verdad o falsedad. Se declaran como `True` o `False`. Representan condiciones, estados binarios (activado/desactivado, abierto/cerrado, cliente/no cliente, compra/no compra).\n",
        "\n",
        "1.   **Listas (list):** Colecciones ordenadas y mutables de elementos de cualquier tipo de dato.\n",
        "Sintaxis: Se declaran entre corchetes `[]`. Permite almacenar colecciones de datos relacionados, como listas de compras, registros de alumnos, conjuntos de datos, etc.\n",
        "\n",
        "1.   **Tuplas:** Colecciones ordenadas e inmutables de elementos de cualquier tipo de dato. Se declaran entre paréntesis `()`. Permite almacenar datos que no cambian, como coordenadas geográficas, información de configuración, etc.\n",
        "\n",
        "1.   **Diccionarios (dict):** Colecciones no ordenadas de pares clave-valor, donde cada clave es única y mapea a un valor. Se declaran entre llaves `{}`, utilizando dos puntos `:` para separar la clave del valor. Permite almacenar datos asociados a claves únicas, como información de usuarios, configuraciones de objetos, bases de datos relacionales, etc.\n",
        "\n",
        "       Ejemplo:\n",
        "     \n",
        "     ```diccionario_alumno = {'nombre':'Luis', 'edad':18, 'curso':'Ciencias'}```\n"
      ]
    },
    {
      "cell_type": "markdown",
      "id": "d25c95a7-9ee8-43b2-85ab-97fb77c2693a",
      "metadata": {
        "id": "d25c95a7-9ee8-43b2-85ab-97fb77c2693a"
      },
      "source": [
        "### Pregunta 1:"
      ]
    },
    {
      "cell_type": "markdown",
      "id": "3103483e-78be-4bd6-afd3-74c02a897439",
      "metadata": {
        "id": "3103483e-78be-4bd6-afd3-74c02a897439"
      },
      "source": [
        "Utiliza la función `print()` para crear un saludo. Dentro de la función debe ir una variable tipo cadena.\n",
        "\n",
        "🚨 El saludo debe incluir tu nombre.\n",
        "\n",
        "Ejemplo:\n",
        "\n",
        "```\n",
        "print(\"Acá debe ir el saludo\")\n",
        "```"
      ]
    },
    {
      "cell_type": "code",
      "execution_count": 2,
      "id": "qGL9bYtIUnMs",
      "metadata": {
        "id": "qGL9bYtIUnMs",
        "colab": {
          "base_uri": "https://localhost:8080/"
        },
        "outputId": "2a6a80cc-66a8-4eed-c92c-3f15c10c3a2a"
      },
      "outputs": [
        {
          "output_type": "stream",
          "name": "stdout",
          "text": [
            "Hola Juan Carlos\n"
          ]
        }
      ],
      "source": [
        "nombre = 'Juan Carlos'\n",
        "print(f'Hola {nombre}')\n"
      ]
    },
    {
      "cell_type": "markdown",
      "id": "19c25d06-dcef-4dea-8b45-d805554ed4f6",
      "metadata": {
        "id": "19c25d06-dcef-4dea-8b45-d805554ed4f6"
      },
      "source": [
        "### Pregunta 2:"
      ]
    },
    {
      "cell_type": "markdown",
      "id": "e2192253-437f-4f0a-a1ff-c1581f6f604b",
      "metadata": {
        "id": "e2192253-437f-4f0a-a1ff-c1581f6f604b"
      },
      "source": [
        "Crear las variables `edad` y `year`. Asignar un valor entero a cada variable."
      ]
    },
    {
      "cell_type": "code",
      "execution_count": 3,
      "id": "d68ad9a3-e4d6-4a5e-9c1f-ac74280252fb",
      "metadata": {
        "id": "d68ad9a3-e4d6-4a5e-9c1f-ac74280252fb"
      },
      "outputs": [],
      "source": [
        "edad = 36\n",
        "year = 1987"
      ]
    },
    {
      "cell_type": "markdown",
      "id": "0e2c2b1a-4044-47f1-a9e5-2f3386f12027",
      "metadata": {
        "id": "0e2c2b1a-4044-47f1-a9e5-2f3386f12027"
      },
      "source": [
        "### Pregunta 3:"
      ]
    },
    {
      "cell_type": "markdown",
      "id": "ba082a7e-0004-4105-8dbd-c81e0964bc47",
      "metadata": {
        "id": "ba082a7e-0004-4105-8dbd-c81e0964bc47"
      },
      "source": [
        "Mostrar el tipo de dato de cada una de las dos variables creadas anteriormente. Puedes utilizar la función `type()`.\n",
        "\n",
        "Ejemplo:\n",
        "\n",
        "```\n",
        "print(type(la_variable))\n",
        "```"
      ]
    },
    {
      "cell_type": "code",
      "execution_count": 4,
      "id": "d7f43c4b-44be-492c-bf9b-1ceadc044fc5",
      "metadata": {
        "id": "d7f43c4b-44be-492c-bf9b-1ceadc044fc5",
        "colab": {
          "base_uri": "https://localhost:8080/"
        },
        "outputId": "a26ff325-b499-40f2-e530-b7b7dbdcf583"
      },
      "outputs": [
        {
          "output_type": "stream",
          "name": "stdout",
          "text": [
            "<class 'int'>\n",
            "<class 'int'>\n"
          ]
        }
      ],
      "source": [
        "print(type(edad))\n",
        "print(type(year))"
      ]
    },
    {
      "cell_type": "markdown",
      "id": "9abda963-a053-4d0b-b6c7-05286b1b3747",
      "metadata": {
        "id": "9abda963-a053-4d0b-b6c7-05286b1b3747"
      },
      "source": [
        "### Pregunta 4:"
      ]
    },
    {
      "cell_type": "markdown",
      "id": "E_q9p_UjU6KM",
      "metadata": {
        "id": "E_q9p_UjU6KM"
      },
      "source": [
        "Crear una variable llamada `cantidad`. La variable debe tener el valor `5`."
      ]
    },
    {
      "cell_type": "code",
      "execution_count": 5,
      "id": "cd1af7e4-df66-4d43-b037-627b8667351a",
      "metadata": {
        "id": "cd1af7e4-df66-4d43-b037-627b8667351a"
      },
      "outputs": [],
      "source": [
        "cantidad = 5"
      ]
    },
    {
      "cell_type": "markdown",
      "id": "6e4082fd-3c22-4472-a3df-77eda7f4f09a",
      "metadata": {
        "id": "6e4082fd-3c22-4472-a3df-77eda7f4f09a"
      },
      "source": [
        "### Pregunta 5:"
      ]
    },
    {
      "cell_type": "markdown",
      "id": "8673e102-e672-415e-9cbb-1771f83e472b",
      "metadata": {
        "id": "8673e102-e672-415e-9cbb-1771f83e472b"
      },
      "source": [
        "Multiplicar la variable que creaste anteriomente llamada `edad` y `cantidad`. El resultado debe estar almacenado en una nueva variable llamada `resultado`."
      ]
    },
    {
      "cell_type": "code",
      "execution_count": 6,
      "id": "f11e138a-d997-4646-a6af-fa42c7f35128",
      "metadata": {
        "id": "f11e138a-d997-4646-a6af-fa42c7f35128",
        "colab": {
          "base_uri": "https://localhost:8080/"
        },
        "outputId": "8dd9135b-28bc-4cad-d029-1fdd3c29c892"
      },
      "outputs": [
        {
          "output_type": "stream",
          "name": "stdout",
          "text": [
            "180\n"
          ]
        }
      ],
      "source": [
        "resultado = edad * cantidad\n",
        "print(resultado)"
      ]
    },
    {
      "cell_type": "markdown",
      "id": "a21070b9-5911-43ab-b501-0d9e2e2013ab",
      "metadata": {
        "id": "a21070b9-5911-43ab-b501-0d9e2e2013ab"
      },
      "source": [
        "### Pregunta 6:"
      ]
    },
    {
      "cell_type": "markdown",
      "id": "9f343dcb-812c-4ce0-935f-4816dcc63377",
      "metadata": {
        "id": "9f343dcb-812c-4ce0-935f-4816dcc63377"
      },
      "source": [
        "Dividir la variable resultado entre `3`.\n",
        "\n",
        "¿El resultado de la división es entero o decimal?"
      ]
    },
    {
      "cell_type": "code",
      "execution_count": 8,
      "id": "ed202d58-0d83-4d88-b7f9-3a7015f5e263",
      "metadata": {
        "id": "ed202d58-0d83-4d88-b7f9-3a7015f5e263",
        "colab": {
          "base_uri": "https://localhost:8080/"
        },
        "outputId": "13ca9a8a-04bf-4184-c9a8-41d5fdf74a66"
      },
      "outputs": [
        {
          "output_type": "stream",
          "name": "stdout",
          "text": [
            "<class 'float'>\n"
          ]
        }
      ],
      "source": [
        "print(type(resultado / 3))"
      ]
    },
    {
      "cell_type": "markdown",
      "source": [
        "El resultado es un decimal"
      ],
      "metadata": {
        "id": "P0AW_--Pykcp"
      },
      "id": "P0AW_--Pykcp"
    },
    {
      "cell_type": "markdown",
      "id": "cb663302-afb7-4907-a35f-a4145a68eaea",
      "metadata": {
        "id": "cb663302-afb7-4907-a35f-a4145a68eaea"
      },
      "source": [
        "### Pregunta 7:"
      ]
    },
    {
      "cell_type": "markdown",
      "id": "f360d1ed-e243-48a2-9a48-3959c6b13731",
      "metadata": {
        "id": "f360d1ed-e243-48a2-9a48-3959c6b13731"
      },
      "source": [
        "Crear dos variables con los nombres `variable1` y `variable2`. Ambas variables almacenarán valores numéricos (enteros o decimales).\n",
        "\n",
        "Luego, utilizarás las operaciones aritméticas básicas (+, -, *, /). El resultado de cada operación debe ser almacenado en una variable diferente.\n",
        "\n",
        "Ejemplo:\n",
        "\n",
        "```\n",
        "resultado_suma = variable1 + variable2\n",
        "resultado_resta = variable1 - variable2\n",
        ".\n",
        ".\n",
        ".\n",
        "```\n"
      ]
    },
    {
      "cell_type": "code",
      "execution_count": 9,
      "id": "81a78c74-f77b-4245-b688-42b5b9203b18",
      "metadata": {
        "id": "81a78c74-f77b-4245-b688-42b5b9203b18"
      },
      "outputs": [],
      "source": [
        "variable1 = 10\n",
        "variable2 = 3\n",
        "resultado_suma = variable1 + variable2\n",
        "resultado_resta = variable1 - variable2\n",
        "resultado_multiplicacion = variable1 * variable2\n",
        "resultado_division = variable1 / variable2\n",
        "\n"
      ]
    },
    {
      "cell_type": "markdown",
      "id": "327c876a-26a3-4de8-ba28-d22208ac1024",
      "metadata": {
        "id": "327c876a-26a3-4de8-ba28-d22208ac1024"
      },
      "source": [
        "### Pregunta 8:"
      ]
    },
    {
      "cell_type": "markdown",
      "id": "30e38fb7-f433-4063-b753-82da99cc1d01",
      "metadata": {
        "id": "30e38fb7-f433-4063-b753-82da99cc1d01"
      },
      "source": [
        "Mostrar el valor de cada una de las cuatro variables que creaste anteriormente. Se sugiere utilizar la función `print()` por cada variable.\n",
        "\n",
        "Ejemplo:\n",
        "\n",
        "```\n",
        "print(resultado_suma)\n",
        "print(resultado_resta)\n",
        ".\n",
        ".\n",
        ".\n",
        "```"
      ]
    },
    {
      "cell_type": "code",
      "execution_count": 10,
      "id": "3d7600d2-7aa2-4154-9436-a2990738ecdb",
      "metadata": {
        "id": "3d7600d2-7aa2-4154-9436-a2990738ecdb",
        "colab": {
          "base_uri": "https://localhost:8080/"
        },
        "outputId": "57a5255d-25e0-40ea-8b43-5c1172436511"
      },
      "outputs": [
        {
          "output_type": "stream",
          "name": "stdout",
          "text": [
            "13\n",
            "7\n",
            "30\n",
            "3.3333333333333335\n"
          ]
        }
      ],
      "source": [
        "print(resultado_suma)\n",
        "print(resultado_resta)\n",
        "print(resultado_multiplicacion)\n",
        "print(resultado_division)"
      ]
    },
    {
      "cell_type": "markdown",
      "id": "0dcaa906-d9f0-4902-9ebd-e40bc4332ff1",
      "metadata": {
        "id": "0dcaa906-d9f0-4902-9ebd-e40bc4332ff1"
      },
      "source": [
        "### Pregunta 9:"
      ]
    },
    {
      "cell_type": "markdown",
      "id": "095a9a4c-1b96-4510-adf3-cbcd6a55ba03",
      "metadata": {
        "id": "095a9a4c-1b96-4510-adf3-cbcd6a55ba03"
      },
      "source": [
        "Crear una lista de 5 elementos. Puedes utilizar la función `range()`.\n",
        "\n",
        "[Documentación](https://docs.python.org/3/library/stdtypes.html#range)\n",
        "\n",
        "La función `range()` recibe 2 argumentos obligatorios. El primero es elemento con el que iniciará la lista. El segundo elemento es el valor máximo sumado más el numero 1. En otras palabras, si colocas range(1,2), entonces se creará una lista de un elemento donde el único elemento será 1.\n",
        "\n",
        "Para asegurarnos que el valor retornado es una lista, se puede colocar la función `list()`. De esta manera, se casteará el valor resultado de la función `range()` a un tipo lista.\n",
        "\n",
        "Ejemplo:\n",
        "\n",
        "```\n",
        "list(range(1, 11))\n",
        "```\n",
        "\n",
        "Almacenar el valor de la lista en un variable."
      ]
    },
    {
      "cell_type": "code",
      "execution_count": 11,
      "id": "3cbbfe2f-5b21-4dd6-9efb-c0fa8a917d35",
      "metadata": {
        "id": "3cbbfe2f-5b21-4dd6-9efb-c0fa8a917d35",
        "colab": {
          "base_uri": "https://localhost:8080/"
        },
        "outputId": "24ad6c37-b135-4e85-f284-2da957ec7c77"
      },
      "outputs": [
        {
          "output_type": "stream",
          "name": "stdout",
          "text": [
            "[1, 2, 3, 4, 5]\n"
          ]
        }
      ],
      "source": [
        "mi_lista  = list(range(1, 6))\n",
        "print(mi_lista)"
      ]
    },
    {
      "cell_type": "markdown",
      "id": "3e51208a-f289-4379-9c1e-77303691e0d6",
      "metadata": {
        "id": "3e51208a-f289-4379-9c1e-77303691e0d6"
      },
      "source": [
        "### Pregunta 10:"
      ]
    },
    {
      "cell_type": "markdown",
      "id": "179c2555-f0fe-4224-9559-e938fe8f0cb9",
      "metadata": {
        "id": "179c2555-f0fe-4224-9559-e938fe8f0cb9"
      },
      "source": [
        "Modifica el elemento con el índice 3 de la lista que creaste anteriormente. El nuevo valor será 0.\n",
        "\n",
        "Ejemplo:\n",
        "\n",
        "```\n",
        "# Para modificar un elmento se puede utilizar la siguiente sentencia\n",
        "mi_lista = [0,1,1]\n",
        "# Quiero modificar el índice 0\n",
        "mi_lista[0] = 1\n",
        "# El resultado de la lista será: 1,1,1\n",
        "print(mi_lista)\n",
        "```"
      ]
    },
    {
      "cell_type": "code",
      "execution_count": 12,
      "id": "335001d6-eed7-4a59-a6bc-1d91e9ceb243",
      "metadata": {
        "id": "335001d6-eed7-4a59-a6bc-1d91e9ceb243",
        "colab": {
          "base_uri": "https://localhost:8080/"
        },
        "outputId": "155a2117-95db-48b1-b02f-912ee64e1746"
      },
      "outputs": [
        {
          "output_type": "stream",
          "name": "stdout",
          "text": [
            "[1, 2, 3, 0, 5]\n"
          ]
        }
      ],
      "source": [
        "mi_lista[3] = 0\n",
        "print(mi_lista)"
      ]
    },
    {
      "cell_type": "markdown",
      "id": "4e87b017-766e-4957-bbb3-dc0ea0973dc6",
      "metadata": {
        "id": "4e87b017-766e-4957-bbb3-dc0ea0973dc6"
      },
      "source": [
        "### Pregunta 11:"
      ]
    },
    {
      "cell_type": "markdown",
      "id": "c4d861bf-3e91-4904-a328-9d4367e0a0f3",
      "metadata": {
        "id": "c4d861bf-3e91-4904-a328-9d4367e0a0f3"
      },
      "source": [
        "Castear a cadena (string) el valor del elemento con índice 2 de la lista que creaste en la pregunta 9. Puedes usar la función `str()`.\n",
        "\n",
        "Ejemplo:\n",
        "\n",
        "```\n",
        "str(AQUI_VA_LA_VARIABLE)\n",
        "```\n",
        "\n",
        "Para ello, considera el ejemplo de la pregunta 10.\n",
        "\n",
        "Almacenar el resultado en una variable llamada `mi_respuesta`."
      ]
    },
    {
      "cell_type": "code",
      "execution_count": 13,
      "id": "87d575f8-f91f-4f4c-9661-f13321cce382",
      "metadata": {
        "id": "87d575f8-f91f-4f4c-9661-f13321cce382"
      },
      "outputs": [],
      "source": [
        "mi_respuesta = str(mi_lista[2])"
      ]
    },
    {
      "cell_type": "markdown",
      "id": "e53cde00-78b0-4754-aed0-d8440644fa12",
      "metadata": {
        "id": "e53cde00-78b0-4754-aed0-d8440644fa12"
      },
      "source": [
        "### Pregunta 12:"
      ]
    },
    {
      "cell_type": "markdown",
      "id": "36e02416-02dd-47c9-905b-b1b2369a1782",
      "metadata": {
        "id": "36e02416-02dd-47c9-905b-b1b2369a1782"
      },
      "source": [
        "Crear una tupla de 5 elementos y almacenar el resultado en una variable llamada `tupla_example`. Cada elemento de la tupla debe ser un valor de cadena (string).\n",
        "\n",
        "Luego, modificar el elemento con el índice 0 por un valor numérico.\n",
        "\n",
        "Ejemplo:\n",
        "\n",
        "```\n",
        "# Para modificar un elmento se puede utilizar la siguiente sentencia\n",
        "mi_lista = [0,1,1]\n",
        "# Quiero modificar el índice 0\n",
        "mi_lista[0] = 1\n",
        "# El resultado de la lista será: 1,1,1\n",
        "print(mi_lista)\n",
        "```\n",
        "\n",
        "¿Qué error te aparece?"
      ]
    },
    {
      "cell_type": "code",
      "execution_count": 15,
      "id": "085c17d8-25d7-48cf-95a8-14d1741f0766",
      "metadata": {
        "id": "085c17d8-25d7-48cf-95a8-14d1741f0766",
        "colab": {
          "base_uri": "https://localhost:8080/"
        },
        "outputId": "49f21172-9728-4ced-85a4-7643d51ddae9"
      },
      "outputs": [
        {
          "output_type": "stream",
          "name": "stdout",
          "text": [
            "[1, 'Martes', 'Miercoles', 'Jueves', 'Viernes']\n"
          ]
        }
      ],
      "source": [
        "tupla_example = ['Lunes','Martes','Miercoles','Jueves','Viernes']\n",
        "tupla_example[0] = 1\n",
        "print(tupla_example)"
      ]
    },
    {
      "cell_type": "markdown",
      "source": [
        "No aparece un error"
      ],
      "metadata": {
        "id": "2R7NmuwyzLtp"
      },
      "id": "2R7NmuwyzLtp"
    },
    {
      "cell_type": "markdown",
      "id": "bd0557ee-7c19-433c-94e9-09aaf3480cac",
      "metadata": {
        "id": "bd0557ee-7c19-433c-94e9-09aaf3480cac"
      },
      "source": [
        "### Pregunta 13:"
      ]
    },
    {
      "cell_type": "markdown",
      "id": "a1936402-3dea-4243-994a-ece6087b9df7",
      "metadata": {
        "id": "a1936402-3dea-4243-994a-ece6087b9df7"
      },
      "source": [
        "Castear el valor de la variable `string_num` a entero y mostrar el resultado con la función `print()`.\n",
        "\n",
        "Para castear el valor puedes usar la función `int()`.\n",
        "\n",
        "Ejemplo:\n",
        "\n",
        "```\n",
        "int(\"Acá va el valor numérico entero.\")\n",
        "```"
      ]
    },
    {
      "cell_type": "code",
      "execution_count": 17,
      "id": "4e756f4c-6366-406d-8e5d-965dc21f074d",
      "metadata": {
        "id": "4e756f4c-6366-406d-8e5d-965dc21f074d",
        "colab": {
          "base_uri": "https://localhost:8080/"
        },
        "outputId": "8d68ab6a-e756-49d7-99f9-07f944a4da9c"
      },
      "outputs": [
        {
          "output_type": "stream",
          "name": "stdout",
          "text": [
            "123\n"
          ]
        }
      ],
      "source": [
        "string_num = \"123\"\n",
        "integer_num = int(string_num)\n",
        "print(integer_num)"
      ]
    },
    {
      "cell_type": "markdown",
      "id": "5f53152c-6483-40e3-bf1e-e9e3d24b114f",
      "metadata": {
        "id": "5f53152c-6483-40e3-bf1e-e9e3d24b114f"
      },
      "source": [
        "### Pregunta 14:"
      ]
    },
    {
      "cell_type": "markdown",
      "id": "53d2e56d-ef90-4510-89ce-a3debc99b510",
      "metadata": {
        "id": "53d2e56d-ef90-4510-89ce-a3debc99b510"
      },
      "source": [
        "Convertir a cadena (string) la variable `integer_num`.\n",
        "\n",
        "Como sugerencia, usar la función `str()`."
      ]
    },
    {
      "cell_type": "code",
      "execution_count": 22,
      "id": "70678015-199d-4834-bc90-c7e82d84592e",
      "metadata": {
        "id": "70678015-199d-4834-bc90-c7e82d84592e",
        "colab": {
          "base_uri": "https://localhost:8080/"
        },
        "outputId": "553d6e5e-daf5-43bb-90d2-ec7aad6bdb1c"
      },
      "outputs": [
        {
          "output_type": "stream",
          "name": "stdout",
          "text": [
            "123\n"
          ]
        }
      ],
      "source": [
        "print(str(integer_num))"
      ]
    },
    {
      "cell_type": "markdown",
      "id": "bbbb94f4-35a1-4026-ae6c-c0c609d0662a",
      "metadata": {
        "id": "bbbb94f4-35a1-4026-ae6c-c0c609d0662a"
      },
      "source": [
        "### Pregunta 15:"
      ]
    },
    {
      "cell_type": "markdown",
      "id": "8e078d24-f4df-4807-8730-cd0364ddd29f",
      "metadata": {
        "id": "8e078d24-f4df-4807-8730-cd0364ddd29f"
      },
      "source": [
        "Ejecutar la siguiente celda de código y colocar los dos valores enteros solicitados."
      ]
    },
    {
      "cell_type": "code",
      "execution_count": 23,
      "id": "51db6df8-da5e-457d-b8fe-9fd9a32ef44e",
      "metadata": {
        "id": "51db6df8-da5e-457d-b8fe-9fd9a32ef44e",
        "colab": {
          "base_uri": "https://localhost:8080/"
        },
        "outputId": "ed150a07-8138-4f64-b181-c5fc6da7ed65"
      },
      "outputs": [
        {
          "output_type": "stream",
          "name": "stdout",
          "text": [
            "Ingrese el primer número: 6\n",
            "Ingrese el segundo número: 4\n",
            "La resta de los números es: 2\n"
          ]
        }
      ],
      "source": [
        "# Solicitar números al usuario\n",
        "numero1 = int(input(\"Ingrese el primer número: \"))\n",
        "numero2 = int(input(\"Ingrese el segundo número: \"))\n",
        "\n",
        "# Calcular la resta\n",
        "resta = numero1 - numero2\n",
        "\n",
        "# Mostrar el resultado\n",
        "print(\"La resta de los números es:\", resta)"
      ]
    },
    {
      "cell_type": "markdown",
      "id": "881d1bdd-f289-45fb-8e75-1de9a2ac9e50",
      "metadata": {
        "id": "881d1bdd-f289-45fb-8e75-1de9a2ac9e50"
      },
      "source": [
        "### Pregunta 16:"
      ]
    },
    {
      "cell_type": "markdown",
      "id": "7096339e-b7a5-4ec4-9c28-518864f92178",
      "metadata": {
        "id": "7096339e-b7a5-4ec4-9c28-518864f92178"
      },
      "source": [
        "Ejecutar la siguiente celda de código y colocar un valor tipo cadena.\n",
        "\n",
        "¿Qué error te aparece?"
      ]
    },
    {
      "cell_type": "code",
      "execution_count": 24,
      "id": "da8fb576-0387-4665-8d66-167141c3da02",
      "metadata": {
        "id": "da8fb576-0387-4665-8d66-167141c3da02",
        "colab": {
          "base_uri": "https://localhost:8080/",
          "height": 245
        },
        "outputId": "6b3e8807-c759-4fd4-c62e-f4e3be76410c"
      },
      "outputs": [
        {
          "name": "stdout",
          "output_type": "stream",
          "text": [
            "Ingrese el primer número: 8\n",
            "Ingrese el segundo número: Texto\n"
          ]
        },
        {
          "output_type": "error",
          "ename": "ValueError",
          "evalue": "invalid literal for int() with base 10: 'Texto'",
          "traceback": [
            "\u001b[0;31m---------------------------------------------------------------------------\u001b[0m",
            "\u001b[0;31mValueError\u001b[0m                                Traceback (most recent call last)",
            "\u001b[0;32m<ipython-input-24-4e74374a18ec>\u001b[0m in \u001b[0;36m<cell line: 3>\u001b[0;34m()\u001b[0m\n\u001b[1;32m      1\u001b[0m \u001b[0;31m# Solicitar números al usuario\u001b[0m\u001b[0;34m\u001b[0m\u001b[0;34m\u001b[0m\u001b[0m\n\u001b[1;32m      2\u001b[0m \u001b[0mnumero1\u001b[0m \u001b[0;34m=\u001b[0m \u001b[0mint\u001b[0m\u001b[0;34m(\u001b[0m\u001b[0minput\u001b[0m\u001b[0;34m(\u001b[0m\u001b[0;34m\"Ingrese el primer número: \"\u001b[0m\u001b[0;34m)\u001b[0m\u001b[0;34m)\u001b[0m\u001b[0;34m\u001b[0m\u001b[0;34m\u001b[0m\u001b[0m\n\u001b[0;32m----> 3\u001b[0;31m \u001b[0mnumero2\u001b[0m \u001b[0;34m=\u001b[0m \u001b[0mint\u001b[0m\u001b[0;34m(\u001b[0m\u001b[0minput\u001b[0m\u001b[0;34m(\u001b[0m\u001b[0;34m\"Ingrese el segundo número: \"\u001b[0m\u001b[0;34m)\u001b[0m\u001b[0;34m)\u001b[0m\u001b[0;34m\u001b[0m\u001b[0;34m\u001b[0m\u001b[0m\n\u001b[0m\u001b[1;32m      4\u001b[0m \u001b[0;34m\u001b[0m\u001b[0m\n\u001b[1;32m      5\u001b[0m \u001b[0;31m# Calcular la resta\u001b[0m\u001b[0;34m\u001b[0m\u001b[0;34m\u001b[0m\u001b[0m\n",
            "\u001b[0;31mValueError\u001b[0m: invalid literal for int() with base 10: 'Texto'"
          ]
        }
      ],
      "source": [
        "# Solicitar números al usuario\n",
        "numero1 = int(input(\"Ingrese el primer número: \"))\n",
        "numero2 = int(input(\"Ingrese el segundo número: \"))\n",
        "\n",
        "# Calcular la resta\n",
        "resta = numero1 - numero2\n",
        "\n",
        "# Mostrar el resultado\n",
        "print(\"La resta de los números es:\", resta)"
      ]
    },
    {
      "cell_type": "markdown",
      "id": "2353f301-7432-4ab7-9118-6abf3300d94c",
      "metadata": {
        "id": "2353f301-7432-4ab7-9118-6abf3300d94c"
      },
      "source": [
        "### Pregunta 17:"
      ]
    },
    {
      "cell_type": "markdown",
      "id": "163d7519-4d67-45ff-937e-3bbb7d44a3e7",
      "metadata": {
        "id": "163d7519-4d67-45ff-937e-3bbb7d44a3e7"
      },
      "source": [
        "Crear una lista de cadenas (string). La lista debe almacenarse en la variable `folders`."
      ]
    },
    {
      "cell_type": "code",
      "execution_count": 25,
      "id": "197a8a8c-91fb-45be-a960-cc947c51f9a0",
      "metadata": {
        "id": "197a8a8c-91fb-45be-a960-cc947c51f9a0"
      },
      "outputs": [],
      "source": [
        "folders = ['Enero','Febrero','Marzo','Abril','Mayo']"
      ]
    },
    {
      "cell_type": "markdown",
      "id": "eaebb012-caa2-4253-8b64-b1566e85d4b9",
      "metadata": {
        "id": "eaebb012-caa2-4253-8b64-b1566e85d4b9"
      },
      "source": [
        "### Pregunta 18:"
      ]
    },
    {
      "cell_type": "markdown",
      "id": "c126670d-2f4f-4213-aed5-2bc6f93beedb",
      "metadata": {
        "id": "c126670d-2f4f-4213-aed5-2bc6f93beedb"
      },
      "source": [
        "Utilizar la función `.join()` para unir los elementos de la lista `folders` que creaste en la pregunta anterior.\n",
        "\n",
        "Almacenar el resultado en una variable llamada `folders_join`.\n",
        "\n",
        "Luego, mostrar la variable `folders_join` usando la función `print()`\n",
        "\n",
        "Ejemplo:\n",
        "\n",
        "```\n",
        "# La función .join() permite unir los elementos de una lista en una cadena de texto.\n",
        "# Cada elemento de la cadena estará separado por el elemento que coloques antes de la función join.\n",
        "'/'.join(AQUI_VA_LA_LISTA)\n",
        "```\n"
      ]
    },
    {
      "cell_type": "code",
      "execution_count": 26,
      "id": "bc2b55ab-aa88-4a9a-aa57-43551399c271",
      "metadata": {
        "id": "bc2b55ab-aa88-4a9a-aa57-43551399c271",
        "colab": {
          "base_uri": "https://localhost:8080/"
        },
        "outputId": "df999c4b-d598-4cbe-e005-da4f059b7e1b"
      },
      "outputs": [
        {
          "output_type": "stream",
          "name": "stdout",
          "text": [
            "Enero/Febrero/Marzo/Abril/Mayo\n"
          ]
        }
      ],
      "source": [
        "folders_join = '/'.join(folders)\n",
        "print(folders_join)"
      ]
    },
    {
      "cell_type": "markdown",
      "id": "5d5ef27d-33cf-433a-9fe7-4af159a1b2f1",
      "metadata": {
        "id": "5d5ef27d-33cf-433a-9fe7-4af159a1b2f1"
      },
      "source": [
        "### Pregunta 19:"
      ]
    },
    {
      "cell_type": "markdown",
      "id": "9e754e95-0620-464f-a358-76c16ede4699",
      "metadata": {
        "id": "9e754e95-0620-464f-a358-76c16ede4699"
      },
      "source": [
        "Utilizar la función `.split()` para separar los elementos de la variable `folders_join` que creaste en la pregunta anterior.\n",
        "\n",
        "La función `.split()` recibe como argumento un caracter que será el que delimite el texto que recibe.\n",
        "\n",
        "\n",
        "Ejemplo:\n",
        "\n",
        "```\n",
        "# MI_TEXTO = 'hola/mundo/hoy/esta/nublado'\n",
        "MI_TEXTO.split('/')\n",
        "# Resultado: ['hola', 'mundo', 'hoy', 'esta', 'nublado']\n",
        "```"
      ]
    },
    {
      "cell_type": "code",
      "execution_count": 27,
      "id": "b20f964f-ce47-4994-985b-33d0b93cb75d",
      "metadata": {
        "id": "b20f964f-ce47-4994-985b-33d0b93cb75d",
        "colab": {
          "base_uri": "https://localhost:8080/"
        },
        "outputId": "387bbb53-92a4-4a0e-eed6-a94929146687"
      },
      "outputs": [
        {
          "output_type": "stream",
          "name": "stdout",
          "text": [
            "['Enero', 'Febrero', 'Marzo', 'Abril', 'Mayo']\n"
          ]
        }
      ],
      "source": [
        "print(folders_join.split('/'))"
      ]
    },
    {
      "cell_type": "markdown",
      "id": "1118a9f7-fa73-4845-a16f-d214f32c954d",
      "metadata": {
        "id": "1118a9f7-fa73-4845-a16f-d214f32c954d"
      },
      "source": [
        "### Pregunta 20:"
      ]
    },
    {
      "cell_type": "markdown",
      "id": "e36034ab-1433-4fa0-8a0a-8e7b73c6a3bd",
      "metadata": {
        "id": "e36034ab-1433-4fa0-8a0a-8e7b73c6a3bd"
      },
      "source": [
        "A partir del diccionario dado en la siguiente celda de código, mostrar el valor de sus llaves.\n",
        "\n",
        "Como sugerencia, utiliza la función `.keys()`."
      ]
    },
    {
      "cell_type": "code",
      "execution_count": 28,
      "id": "99f323ea-9d5e-42fd-b618-8032bcc8a9d4",
      "metadata": {
        "id": "99f323ea-9d5e-42fd-b618-8032bcc8a9d4",
        "colab": {
          "base_uri": "https://localhost:8080/"
        },
        "outputId": "b410e6d9-6176-497d-8491-37ac106c6dd4"
      },
      "outputs": [
        {
          "output_type": "stream",
          "name": "stdout",
          "text": [
            "dict_keys(['nombre', 'edad', 'profesion', 'ciudad'])\n"
          ]
        }
      ],
      "source": [
        "# Crear un diccionario vacío\n",
        "diccionario = {}\n",
        "\n",
        "# Agregar elementos al diccionario (clave:valor)\n",
        "diccionario[\"nombre\"] = \"Francisco\"\n",
        "diccionario[\"edad\"] = 999\n",
        "diccionario[\"profesion\"] = \"Ingeniero\"\n",
        "diccionario[\"ciudad\"] = \"Lima\"\n",
        "\n",
        "# Mostrar el resultado\n",
        "print(diccionario.keys())"
      ]
    },
    {
      "cell_type": "markdown",
      "id": "mjpicihkUVTF",
      "metadata": {
        "id": "mjpicihkUVTF"
      },
      "source": [
        "### Pregunta 21:"
      ]
    },
    {
      "cell_type": "markdown",
      "id": "mjSRF0FZUX5u",
      "metadata": {
        "id": "mjSRF0FZUX5u"
      },
      "source": [
        "Corrige la siguiente celda de código para mostrar el resultado de utilizar la función `get()` en el diccionario `frutas`."
      ]
    },
    {
      "cell_type": "code",
      "execution_count": 29,
      "id": "WrJbYjkFUZxh",
      "metadata": {
        "id": "WrJbYjkFUZxh",
        "colab": {
          "base_uri": "https://localhost:8080/"
        },
        "outputId": "6efbdff0-c028-4f3a-e8da-15b15548d3b4"
      },
      "outputs": [
        {
          "output_type": "stream",
          "name": "stdout",
          "text": [
            "Se encontró la fruta: 1\n"
          ]
        }
      ],
      "source": [
        "frutas = {\"manzana\": 1, \"naranja\": 9, \"plátano\": 0, \"uva\": 10, \"fresa\": 0}\n",
        "\n",
        "fruta_buscada = frutas.get(\"manzana\")\n",
        "\n",
        "print(f\"Se encontró la fruta: {fruta_buscada}\")"
      ]
    },
    {
      "cell_type": "markdown",
      "id": "uEs89UGRVZWC",
      "metadata": {
        "id": "uEs89UGRVZWC"
      },
      "source": [
        "### Pregunta 22:"
      ]
    },
    {
      "cell_type": "markdown",
      "id": "D_1iU3j8VuLl",
      "metadata": {
        "id": "D_1iU3j8VuLl"
      },
      "source": [
        "A partir del diccionario `frutas` creado en la pregunta anterior.\n",
        "\n",
        "Utiliza la función `get()` para buscar la fruta `frambuesa`.\n",
        "\n",
        "¿Cuál es el valor de la variable `fruta_buscada`?"
      ]
    },
    {
      "cell_type": "code",
      "execution_count": 30,
      "id": "atJ_I-rvVbDG",
      "metadata": {
        "id": "atJ_I-rvVbDG",
        "colab": {
          "base_uri": "https://localhost:8080/"
        },
        "outputId": "ef0d3b33-5c2a-4049-bdd0-13c3de6b85ff"
      },
      "outputs": [
        {
          "output_type": "stream",
          "name": "stdout",
          "text": [
            "None\n"
          ]
        }
      ],
      "source": [
        "fruta_buscada = frutas.get(\"frambuesa\")\n",
        "print(fruta_buscada)"
      ]
    },
    {
      "cell_type": "markdown",
      "id": "DnnybzKLVjXs",
      "metadata": {
        "id": "DnnybzKLVjXs"
      },
      "source": [
        "### Pregunta 23:"
      ]
    },
    {
      "cell_type": "markdown",
      "id": "KcCVCRaiWHRJ",
      "metadata": {
        "id": "KcCVCRaiWHRJ"
      },
      "source": [
        "Modifica la siguiente celda de código para que cuando no exista la fruta, entonces retorne el mensaje \"NO EXISTE\".\n",
        "\n",
        "Como sugerencia la función `get()` puede recibir dos argumentos. El primer argumento recibe el valor a consultar en el diccionario y el segundo argumento, es opcional, recibe el valor que retornará en caso no exista el valor de consulta.\n",
        "\n",
        "\n",
        "\n",
        "```\n",
        "get(VALOR_CONSULTA, VALOR_DEFAULT)\n",
        "```\n",
        "\n"
      ]
    },
    {
      "cell_type": "code",
      "execution_count": 31,
      "id": "1TbhU2cgVlXx",
      "metadata": {
        "id": "1TbhU2cgVlXx",
        "colab": {
          "base_uri": "https://localhost:8080/"
        },
        "outputId": "475cc371-6140-4cda-b23d-0ffa1f06d5f7"
      },
      "outputs": [
        {
          "output_type": "stream",
          "name": "stdout",
          "text": [
            "NO EXISTE\n"
          ]
        }
      ],
      "source": [
        "fruta_buscada = frutas.get(\"frambuesa\", \"NO EXISTE\")\n",
        "\n",
        "print(str(fruta_buscada))"
      ]
    },
    {
      "cell_type": "markdown",
      "id": "dj7fUYckVpHa",
      "metadata": {
        "id": "dj7fUYckVpHa"
      },
      "source": [
        "### Pregunta 24:"
      ]
    },
    {
      "cell_type": "markdown",
      "id": "z0Bfnm0UW1PS",
      "metadata": {
        "id": "z0Bfnm0UW1PS"
      },
      "source": [
        "Encuentra el error en la siguiente celda de código para mostrar la cantidad de elementos que tiene la lista.\n",
        "\n",
        "El resultado esperado es:\n",
        "\n",
        "```\n",
        "Existen 1889\n",
        "```\n",
        "\n",
        "Como sugerencia, solamente debes agregar dos caracteres a la celda de código.\n"
      ]
    },
    {
      "cell_type": "code",
      "execution_count": 32,
      "id": "FVTfrZb4Vqjm",
      "metadata": {
        "id": "FVTfrZb4Vqjm",
        "colab": {
          "base_uri": "https://localhost:8080/"
        },
        "outputId": "a5e6f9f1-6fa5-4eda-9024-ed79af4284b6"
      },
      "outputs": [
        {
          "output_type": "stream",
          "name": "stdout",
          "text": [
            "Existen 1889\n"
          ]
        }
      ],
      "source": [
        "lista = range(1, 1890)\n",
        "\n",
        "print(f\"Existen {len(lista)}\")"
      ]
    },
    {
      "cell_type": "markdown",
      "id": "TAnEs9DiVqyc",
      "metadata": {
        "id": "TAnEs9DiVqyc"
      },
      "source": [
        "### Pregunta 25:"
      ]
    },
    {
      "cell_type": "markdown",
      "id": "UX75y7zrXlz6",
      "metadata": {
        "id": "UX75y7zrXlz6"
      },
      "source": [
        "Encuentra el error y corrige la celda de código para que funcione correctamente."
      ]
    },
    {
      "cell_type": "code",
      "execution_count": 33,
      "id": "Np9et-i0Vscb",
      "metadata": {
        "id": "Np9et-i0Vscb",
        "colab": {
          "base_uri": "https://localhost:8080/"
        },
        "outputId": "4a9c3d97-0f1d-4f3e-8923-10f736e23459"
      },
      "outputs": [
        {
          "output_type": "stream",
          "name": "stdout",
          "text": [
            "9\n"
          ]
        }
      ],
      "source": [
        "resultados = {\"r2\": 0.99, \"desviación_estándar\": 90.08, \"modelo\": \"Regresión Logística\"}\n",
        "\n",
        "sdv = resultados.get(\"desviacion_estádar\", 0)\n",
        "\n",
        "print(sdv + 9)"
      ]
    }
  ],
  "metadata": {
    "colab": {
      "provenance": []
    },
    "kernelspec": {
      "display_name": "Python 3 (ipykernel)",
      "language": "python",
      "name": "python3"
    },
    "language_info": {
      "codemirror_mode": {
        "name": "ipython",
        "version": 3
      },
      "file_extension": ".py",
      "mimetype": "text/x-python",
      "name": "python",
      "nbconvert_exporter": "python",
      "pygments_lexer": "ipython3",
      "version": "3.11.7"
    }
  },
  "nbformat": 4,
  "nbformat_minor": 5
}